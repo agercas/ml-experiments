{
 "cells": [
  {
   "cell_type": "code",
   "execution_count": null,
   "metadata": {
    "executionInfo": {
     "elapsed": 20086,
     "status": "ok",
     "timestamp": 1688828405327,
     "user": {
      "displayName": "Arnas Gercas",
      "userId": "05721695559367193707"
     },
     "user_tz": -120
    },
    "id": "cK5HZ4zk2srm"
   },
   "outputs": [],
   "source": [
    "%%capture\n",
    "!pip install gradio datasets[audio] librosa transformers transformers[torch] evaluate"
   ]
  },
  {
   "cell_type": "code",
   "execution_count": null,
   "metadata": {
    "executionInfo": {
     "elapsed": 2327,
     "status": "ok",
     "timestamp": 1688828407650,
     "user": {
      "displayName": "Arnas Gercas",
      "userId": "05721695559367193707"
     },
     "user_tz": -120
    },
    "id": "6ID-ey-n37N_"
   },
   "outputs": [],
   "source": [
    "import gradio as gr"
   ]
  },
  {
   "cell_type": "code",
   "execution_count": null,
   "metadata": {
    "colab": {
     "base_uri": "https://localhost:8080/",
     "height": 191,
     "referenced_widgets": [
      "3d626054dfe540dcbaafbb1ace3704b0",
      "0aa3ef744e7042d58a15cf2546f3dd5d",
      "c2ddcddd10d144e593fce5d2029e8a39",
      "d7cf7b1451104d2f8890ed2ebf4ce150",
      "561f1d5da4734d0487148cc20127aec8",
      "a95d4f3cff2e4c659e9cfbd0c7f2ba3d",
      "3b7c87e008b44ae784b1c10d37382f3d",
      "5a85779780e845fa8b83c4cc56275877",
      "914f732ff47349f59e6f0d10e0ba7a88",
      "9fed235f74dd46ce94e0b231d9da73ce",
      "e3914ff0de0646fea414d5bf235c5941"
     ]
    },
    "executionInfo": {
     "elapsed": 1260,
     "status": "ok",
     "timestamp": 1688828408899,
     "user": {
      "displayName": "Arnas Gercas",
      "userId": "05721695559367193707"
     },
     "user_tz": -120
    },
    "id": "rlSB9CGe2zCQ",
    "outputId": "9c26754f-e0ea-4e9e-e7b4-2df95b06c71a"
   },
   "outputs": [],
   "source": [
    "from datasets import load_dataset\n",
    "\n",
    "gtzan = load_dataset(\"marsyas/gtzan\", \"all\")\n",
    "gtzan"
   ]
  },
  {
   "cell_type": "code",
   "execution_count": null,
   "metadata": {
    "colab": {
     "base_uri": "https://localhost:8080/"
    },
    "executionInfo": {
     "elapsed": 2,
     "status": "ok",
     "timestamp": 1688828408899,
     "user": {
      "displayName": "Arnas Gercas",
      "userId": "05721695559367193707"
     },
     "user_tz": -120
    },
    "id": "TueNqJ0YXlm_",
    "outputId": "76e79a88-1a41-4ccc-8b3c-ca9c37d8ecee"
   },
   "outputs": [],
   "source": [
    "gtzan = gtzan[\"train\"].train_test_split(seed=42, shuffle=True, test_size=0.1)\n",
    "gtzan"
   ]
  },
  {
   "cell_type": "code",
   "execution_count": null,
   "metadata": {
    "colab": {
     "base_uri": "https://localhost:8080/"
    },
    "executionInfo": {
     "elapsed": 1901,
     "status": "ok",
     "timestamp": 1688828410799,
     "user": {
      "displayName": "Arnas Gercas",
      "userId": "05721695559367193707"
     },
     "user_tz": -120
    },
    "id": "VphtiHi02ziO",
    "outputId": "bfc01480-de2b-4cad-9e45-3fb879d143b7"
   },
   "outputs": [],
   "source": [
    "gtzan[\"train\"][0]"
   ]
  },
  {
   "cell_type": "code",
   "execution_count": null,
   "metadata": {
    "colab": {
     "base_uri": "https://localhost:8080/",
     "height": 35
    },
    "executionInfo": {
     "elapsed": 8,
     "status": "ok",
     "timestamp": 1688828410800,
     "user": {
      "displayName": "Arnas Gercas",
      "userId": "05721695559367193707"
     },
     "user_tz": -120
    },
    "id": "WSxzmjWd2zoO",
    "outputId": "961c4f7d-5e7b-465c-901b-4f0791d04a3d"
   },
   "outputs": [],
   "source": [
    "id2label_fn = gtzan[\"train\"].features[\"genre\"].int2str\n",
    "id2label_fn(gtzan[\"train\"][0][\"genre\"])"
   ]
  },
  {
   "cell_type": "code",
   "execution_count": null,
   "metadata": {
    "colab": {
     "base_uri": "https://localhost:8080/"
    },
    "executionInfo": {
     "elapsed": 533,
     "status": "ok",
     "timestamp": 1688828411327,
     "user": {
      "displayName": "Arnas Gercas",
      "userId": "05721695559367193707"
     },
     "user_tz": -120
    },
    "id": "oHYAOYiW2zua",
    "outputId": "4aba9601-e75a-4371-e6fd-cacc755047ae"
   },
   "outputs": [],
   "source": [
    "def generate_audio():\n",
    "    example = gtzan[\"train\"].shuffle()[0]\n",
    "    audio = example[\"audio\"]\n",
    "    return (\n",
    "        audio[\"sampling_rate\"],\n",
    "        audio[\"array\"],\n",
    "    ), id2label_fn(example[\"genre\"])\n",
    "\n",
    "\n",
    "with gr.Blocks() as demo:\n",
    "    with gr.Column():\n",
    "        for _ in range(4):\n",
    "            audio, label = generate_audio()\n",
    "            output = gr.Audio(audio, label=label)\n",
    "\n",
    "# demo.launch(debug=True)"
   ]
  },
  {
   "cell_type": "code",
   "execution_count": null,
   "metadata": {
    "executionInfo": {
     "elapsed": 7536,
     "status": "ok",
     "timestamp": 1688828418861,
     "user": {
      "displayName": "Arnas Gercas",
      "userId": "05721695559367193707"
     },
     "user_tz": -120
    },
    "id": "N2zx6GUH2z0N"
   },
   "outputs": [],
   "source": [
    "from transformers import AutoFeatureExtractor\n",
    "\n",
    "# model_id = \"ntu-spml/distilhubert\"\n",
    "model_id = \"MIT/ast-finetuned-audioset-10-10-0.4593\"\n",
    "feature_extractor = AutoFeatureExtractor.from_pretrained(model_id, do_normalize=True, return_attention_mask=False)"
   ]
  },
  {
   "cell_type": "code",
   "execution_count": null,
   "metadata": {
    "colab": {
     "base_uri": "https://localhost:8080/"
    },
    "executionInfo": {
     "elapsed": 10,
     "status": "ok",
     "timestamp": 1688828418861,
     "user": {
      "displayName": "Arnas Gercas",
      "userId": "05721695559367193707"
     },
     "user_tz": -120
    },
    "id": "LK3dIgq04qo3",
    "outputId": "2a9fc384-71cd-4f58-fed0-f8ca88b1f3c6"
   },
   "outputs": [],
   "source": [
    "sampling_rate = feature_extractor.sampling_rate\n",
    "sampling_rate"
   ]
  },
  {
   "cell_type": "code",
   "execution_count": null,
   "metadata": {
    "executionInfo": {
     "elapsed": 8,
     "status": "ok",
     "timestamp": 1688828418861,
     "user": {
      "displayName": "Arnas Gercas",
      "userId": "05721695559367193707"
     },
     "user_tz": -120
    },
    "id": "xozuFgrr4wGY"
   },
   "outputs": [],
   "source": [
    "from datasets import Audio\n",
    "\n",
    "gtzan = gtzan.cast_column(\"audio\", Audio(sampling_rate=sampling_rate))"
   ]
  },
  {
   "cell_type": "code",
   "execution_count": null,
   "metadata": {
    "executionInfo": {
     "elapsed": 9,
     "status": "ok",
     "timestamp": 1688828418862,
     "user": {
      "displayName": "Arnas Gercas",
      "userId": "05721695559367193707"
     },
     "user_tz": -120
    },
    "id": "jNopYzml4whX"
   },
   "outputs": [],
   "source": [
    "max_duration = 30.0\n",
    "\n",
    "\n",
    "def preprocess_function(examples):\n",
    "    audio_arrays = [x[\"array\"] for x in examples[\"audio\"]]\n",
    "    inputs = feature_extractor(\n",
    "        audio_arrays,\n",
    "        sampling_rate=feature_extractor.sampling_rate,\n",
    "        max_length=int(feature_extractor.sampling_rate * max_duration),\n",
    "        truncation=True,\n",
    "        return_attention_mask=True,\n",
    "    )\n",
    "    return inputs"
   ]
  },
  {
   "cell_type": "code",
   "execution_count": null,
   "metadata": {
    "colab": {
     "base_uri": "https://localhost:8080/",
     "height": 191,
     "referenced_widgets": [
      "9464983fa41743e3af07564363caac1c",
      "8d3814848f5549ed879b527e7ccccef0",
      "2b6efb9d0c5e4d44b80acfdb69182c3a",
      "8a751df1a68f420589075ce0fc8b1ccd",
      "b8aed01ea3734ac8b0dcefba8b931642",
      "7d4052f2820f446da4d6f3a68c65ef02",
      "e07bd46cfa8c46e4aceb4f7d5e8ab829",
      "2f1c88f70af644a18c077d0c6dd0199c",
      "a320d44b99e042ec83958f6b014f4d90",
      "ef1f752823bb4d58b5e3021b26946e79",
      "6c1217fe4ddf4758a21c263f48b46c75",
      "0c906fd6600f474a97d7c937bd0e99c2",
      "3e53e6b9134543a687b204e99b9852a0",
      "9dfa0a95d39f43aebb0c74fcbb11e2fb",
      "445908678ed844508beb8f8b03588558",
      "6b048db6c347491e8b3a8a5759291130",
      "38975ad57c324949a91c6016e7e358a7",
      "4b31c0c4b254408bb8027b4c4289475a",
      "ce8f5bcfa552483f94828cf4007f1f27",
      "5f6512168f2f432487ba1a69c123b0fc",
      "d007e73ac017418b9bcf986ee7d907dd",
      "0882def3f78c4a8fbd5787ac8a437607"
     ]
    },
    "executionInfo": {
     "elapsed": 65613,
     "status": "ok",
     "timestamp": 1688828484467,
     "user": {
      "displayName": "Arnas Gercas",
      "userId": "05721695559367193707"
     },
     "user_tz": -120
    },
    "id": "lAGa31HE4w3I",
    "outputId": "6c592c73-8fae-48aa-cd54-2d677e23c77f"
   },
   "outputs": [],
   "source": [
    "gtzan_encoded = gtzan.map(\n",
    "    preprocess_function,\n",
    "    remove_columns=[\"audio\", \"file\"],\n",
    "    batched=True,\n",
    "    num_proc=1,\n",
    "    batch_size=100,\n",
    ")\n",
    "gtzan_encoded"
   ]
  },
  {
   "cell_type": "code",
   "execution_count": null,
   "metadata": {
    "executionInfo": {
     "elapsed": 30,
     "status": "ok",
     "timestamp": 1688828484467,
     "user": {
      "displayName": "Arnas Gercas",
      "userId": "05721695559367193707"
     },
     "user_tz": -120
    },
    "id": "xF2ruq3l5pGP"
   },
   "outputs": [],
   "source": [
    "gtzan_encoded = gtzan_encoded.rename_column(\"genre\", \"label\")"
   ]
  },
  {
   "cell_type": "code",
   "execution_count": null,
   "metadata": {
    "colab": {
     "base_uri": "https://localhost:8080/",
     "height": 35
    },
    "executionInfo": {
     "elapsed": 29,
     "status": "ok",
     "timestamp": 1688828484468,
     "user": {
      "displayName": "Arnas Gercas",
      "userId": "05721695559367193707"
     },
     "user_tz": -120
    },
    "id": "OlEOHITy5y_w",
    "outputId": "75b2b65c-18ab-47c9-ea42-26c2b8635835"
   },
   "outputs": [],
   "source": [
    "id2label = {str(i): id2label_fn(i) for i in range(len(gtzan_encoded[\"train\"].features[\"label\"].names))}\n",
    "label2id = {v: k for k, v in id2label.items()}\n",
    "\n",
    "id2label[\"7\"]"
   ]
  },
  {
   "cell_type": "markdown",
   "metadata": {
    "id": "eEks9r9ZNp6A"
   },
   "source": [
    "# New Section"
   ]
  },
  {
   "cell_type": "code",
   "execution_count": null,
   "metadata": {
    "colab": {
     "base_uri": "https://localhost:8080/"
    },
    "executionInfo": {
     "elapsed": 3626,
     "status": "ok",
     "timestamp": 1688828488067,
     "user": {
      "displayName": "Arnas Gercas",
      "userId": "05721695559367193707"
     },
     "user_tz": -120
    },
    "id": "MeyvFcm85zZv",
    "outputId": "c8b5880f-80c7-45b3-c0fd-d53e50b23e9a"
   },
   "outputs": [],
   "source": [
    "from transformers import AutoModelForAudioClassification\n",
    "\n",
    "num_labels = len(id2label)\n",
    "\n",
    "model = AutoModelForAudioClassification.from_pretrained(\n",
    "    model_id,\n",
    "    num_labels=num_labels,\n",
    "    label2id=label2id,\n",
    "    id2label=id2label,\n",
    "    # only for AST model\n",
    "    ignore_mismatched_sizes=True,\n",
    ")"
   ]
  },
  {
   "cell_type": "code",
   "execution_count": null,
   "metadata": {
    "colab": {
     "base_uri": "https://localhost:8080/",
     "height": 359,
     "referenced_widgets": [
      "a84b99dae2c54243ae883bf0805d0bee",
      "2f28f4f930384198b9188cd19bc8539a",
      "1a46234d228e404cba101a4b479bcd2c",
      "44f7d4e0490f4b3a96f773b4d8677b27",
      "04f14a9e818f4e72be7cc0e64691b503",
      "4dcacb37d86a40a3af4091d46f9b629a",
      "3edc0a1caf514a159eae659d4f4ee040",
      "fbc109df1b514fc7b438a0e245025e6e",
      "f9b53e1684b34311bed5aa9a4bcbbb8c",
      "212c333464204b4b86209cb4d39375f8",
      "822b444e07874b17ace381c18c86796f",
      "20d57820ede64ae7836007c6c9716c94",
      "559db14454ec4a44ab03dca0443a11ff",
      "e28798996d214a6f989db4d54f0afd00",
      "21bbd51b41d9447da06a4b0b07206548",
      "5c004edaf30e46db8a186feb60bceeb3",
      "e24643ca2eee4553946a718c3a83aa2d"
     ]
    },
    "executionInfo": {
     "elapsed": 13,
     "status": "ok",
     "timestamp": 1688828488067,
     "user": {
      "displayName": "Arnas Gercas",
      "userId": "05721695559367193707"
     },
     "user_tz": -120
    },
    "id": "MJB8NOU850ID",
    "outputId": "41491e54-b1ac-4483-9644-9874a8fe31e1"
   },
   "outputs": [],
   "source": [
    "from huggingface_hub import notebook_login\n",
    "\n",
    "notebook_login()"
   ]
  },
  {
   "cell_type": "code",
   "execution_count": null,
   "metadata": {
    "executionInfo": {
     "elapsed": 312,
     "status": "ok",
     "timestamp": 1688828488368,
     "user": {
      "displayName": "Arnas Gercas",
      "userId": "05721695559367193707"
     },
     "user_tz": -120
    },
    "id": "dBGwSkpn50ZU"
   },
   "outputs": [],
   "source": [
    "from transformers import TrainingArguments\n",
    "\n",
    "model_name = model_id.split(\"/\")[-1]\n",
    "# batch_size = 8\n",
    "batch_size = 4\n",
    "gradient_accumulation_steps = 1\n",
    "num_train_epochs = 10\n",
    "\n",
    "training_args = TrainingArguments(\n",
    "    f\"{model_name}-finetuned-gtzan\",\n",
    "    evaluation_strategy=\"epoch\",\n",
    "    save_strategy=\"epoch\",\n",
    "    learning_rate=5e-5,\n",
    "    per_device_train_batch_size=batch_size,\n",
    "    gradient_accumulation_steps=gradient_accumulation_steps,\n",
    "    per_device_eval_batch_size=batch_size,\n",
    "    num_train_epochs=num_train_epochs,\n",
    "    warmup_ratio=0.1,\n",
    "    logging_steps=5,\n",
    "    load_best_model_at_end=True,\n",
    "    metric_for_best_model=\"accuracy\",\n",
    "    fp16=True,\n",
    "    push_to_hub=True,\n",
    ")"
   ]
  },
  {
   "cell_type": "code",
   "execution_count": null,
   "metadata": {
    "executionInfo": {
     "elapsed": 1073,
     "status": "ok",
     "timestamp": 1688828489440,
     "user": {
      "displayName": "Arnas Gercas",
      "userId": "05721695559367193707"
     },
     "user_tz": -120
    },
    "id": "m-R3NRCP50rv"
   },
   "outputs": [],
   "source": [
    "import evaluate\n",
    "import numpy as np\n",
    "\n",
    "\n",
    "metric = evaluate.load(\"accuracy\")\n",
    "\n",
    "\n",
    "def compute_metrics(eval_pred):\n",
    "    \"\"\"Computes accuracy on a batch of predictions\"\"\"\n",
    "    predictions = np.argmax(eval_pred.predictions, axis=1)\n",
    "    return metric.compute(predictions=predictions, references=eval_pred.label_ids)"
   ]
  },
  {
   "cell_type": "code",
   "execution_count": null,
   "metadata": {
    "colab": {
     "base_uri": "https://localhost:8080/"
    },
    "executionInfo": {
     "elapsed": 7,
     "status": "ok",
     "timestamp": 1688828489440,
     "user": {
      "displayName": "Arnas Gercas",
      "userId": "05721695559367193707"
     },
     "user_tz": -120
    },
    "id": "fpcDyuuBVmWs",
    "outputId": "4e0ca0ee-cea5-422f-9cd5-41423f0a6c40"
   },
   "outputs": [],
   "source": [
    "gtzan"
   ]
  },
  {
   "cell_type": "code",
   "execution_count": null,
   "metadata": {
    "colab": {
     "base_uri": "https://localhost:8080/",
     "height": 513
    },
    "executionInfo": {
     "elapsed": 2463891,
     "status": "ok",
     "timestamp": 1688830953328,
     "user": {
      "displayName": "Arnas Gercas",
      "userId": "05721695559367193707"
     },
     "user_tz": -120
    },
    "id": "08TDhyAf6tKv",
    "outputId": "ea88e3b4-3081-451d-99e8-4ff61509274f"
   },
   "outputs": [],
   "source": [
    "# Depending on your GPU, it is possible that you will encounter a CUDA \"out-of-memory\"\n",
    "# error when you start training. In this case, you can reduce the batch_size incrementally\n",
    "# by factors of 2 and employ gradient_accumulation_steps to compensate.\n",
    "\n",
    "from transformers import Trainer\n",
    "\n",
    "trainer = Trainer(\n",
    "    model,\n",
    "    training_args,\n",
    "    train_dataset=gtzan_encoded[\"train\"],\n",
    "    eval_dataset=gtzan_encoded[\"test\"],\n",
    "    tokenizer=feature_extractor,\n",
    "    compute_metrics=compute_metrics,\n",
    ")\n",
    "\n",
    "trainer.train()"
   ]
  },
  {
   "cell_type": "code",
   "execution_count": null,
   "metadata": {
    "colab": {
     "base_uri": "https://localhost:8080/",
     "height": 405,
     "referenced_widgets": [
      "56dee95eb0ce4c5dbfbf3fad0674e6f0",
      "b431b24e3f8543498c8a82d6022dbaa3",
      "d616f48aa33046a392ee83063f414b10",
      "e68583b02c5c46518cecda2113165541",
      "568893f503764314ad73003d5860fd41",
      "d419d30f6d8042cab920e67abf952121",
      "255ce8e0fd3b41418e332886944dadf5",
      "ce75f7690e084501bacfa52ecf7e6f00",
      "c1814995b8174f00a7fe05cd48e75e4c",
      "085f027e6a9b45428ae405c7d99b209e",
      "f094d80866ff4cf280e61ce461371741",
      "93326b1fd7b54deea3b5bdffde9520c1",
      "7c3935f32e4a4708b1e477c41363b7bc",
      "e0104d20ca8c4d41b8692adaaee09717",
      "e06eb88a997343eaac6a8e167e694067",
      "4e61e6ca4b8340b8861ca78bb08844f5",
      "b674587696af419885a2acca4486b207",
      "4d55a12559a34b45bbbe4645faebc9d6",
      "48318fe5b9084179a47ce2804c5c8c6a",
      "fbc8cb4673464d92999025b7ecb4e1cd",
      "a45ffa540c7c4df0bf4a643db3841e4b",
      "0043e45353eb4e46b6739bf3df99b8d1"
     ]
    },
    "executionInfo": {
     "elapsed": 26821,
     "status": "ok",
     "timestamp": 1688830980136,
     "user": {
      "displayName": "Arnas Gercas",
      "userId": "05721695559367193707"
     },
     "user_tz": -120
    },
    "id": "kJNcxdec6tm1",
    "outputId": "dd79bb12-75da-463f-f9d1-82929d4a713b"
   },
   "outputs": [],
   "source": [
    "# push to leaderboard\n",
    "kwargs = {\n",
    "    \"dataset_tags\": \"marsyas/gtzan\",\n",
    "    \"dataset\": \"GTZAN\",\n",
    "    \"model_name\": f\"{model_name}-finetuned-gtzan\",\n",
    "    \"finetuned_from\": model_id,\n",
    "    \"tasks\": \"audio-classification\",\n",
    "}\n",
    "\n",
    "trainer.push_to_hub(**kwargs)"
   ]
  },
  {
   "cell_type": "code",
   "execution_count": null,
   "metadata": {
    "executionInfo": {
     "elapsed": 26,
     "status": "ok",
     "timestamp": 1688830980137,
     "user": {
      "displayName": "Arnas Gercas",
      "userId": "05721695559367193707"
     },
     "user_tz": -120
    },
    "id": "9J3XS00j6tsy"
   },
   "outputs": [],
   "source": []
  },
  {
   "cell_type": "code",
   "execution_count": null,
   "metadata": {
    "executionInfo": {
     "elapsed": 24,
     "status": "ok",
     "timestamp": 1688830980137,
     "user": {
      "displayName": "Arnas Gercas",
      "userId": "05721695559367193707"
     },
     "user_tz": -120
    },
    "id": "My9yNAD76tzP"
   },
   "outputs": [],
   "source": []
  },
  {
   "cell_type": "code",
   "execution_count": null,
   "metadata": {
    "executionInfo": {
     "elapsed": 24,
     "status": "ok",
     "timestamp": 1688830980138,
     "user": {
      "displayName": "Arnas Gercas",
      "userId": "05721695559367193707"
     },
     "user_tz": -120
    },
    "id": "STHM7u0A_olD"
   },
   "outputs": [],
   "source": []
  }
 ],
 "metadata": {
  "accelerator": "GPU",
  "colab": {
   "authorship_tag": "ABX9TyM7mO1lnJ23lv4MisFHCr9O",
   "gpuType": "T4",
   "provenance": []
  },
  "kernelspec": {
   "display_name": "Python 3 (ipykernel)",
   "language": "python",
   "name": "python3"
  },
  "language_info": {
   "codemirror_mode": {
    "name": "ipython",
    "version": 3
   },
   "file_extension": ".py",
   "mimetype": "text/x-python",
   "name": "python",
   "nbconvert_exporter": "python",
   "pygments_lexer": "ipython3",
   "version": "3.11.2"
  }
 },
 "nbformat": 4,
 "nbformat_minor": 4
}
