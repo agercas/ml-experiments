{
 "cells": [
  {
   "cell_type": "code",
   "execution_count": null,
   "metadata": {
    "id": "ssuE-6tP6bRt"
   },
   "outputs": [],
   "source": [
    "!pip install datasets[audio] librosa transformers"
   ]
  },
  {
   "cell_type": "code",
   "execution_count": null,
   "metadata": {
    "id": "_TsgRPeh6rG5"
   },
   "outputs": [],
   "source": [
    "# Load the dataset in streaming mode\n",
    "\n",
    "from datasets import load_dataset\n",
    "\n",
    "ds = load_dataset(\"facebook/voxpopuli\", name=\"de\", streaming=True)"
   ]
  },
  {
   "cell_type": "code",
   "execution_count": null,
   "metadata": {
    "id": "4oxHsNQa652Q"
   },
   "outputs": [],
   "source": [
    "# Take the first three examples from the training part\n",
    "\n",
    "ds_head = ds[\"train\"].take(3)"
   ]
  },
  {
   "cell_type": "code",
   "execution_count": null,
   "metadata": {
    "colab": {
     "base_uri": "https://localhost:8080/"
    },
    "executionInfo": {
     "elapsed": 3413,
     "status": "ok",
     "timestamp": 1683811352202,
     "user": {
      "displayName": "Maria Khalusova",
      "userId": "02939168343837494293"
     },
     "user_tz": 240
    },
    "id": "F9ch_ymN7ce9",
    "outputId": "4e29b1df-2407-4f54-9be6-c5607d955e56"
   },
   "outputs": [],
   "source": [
    "# Get the third example and explore it\n",
    "\n",
    "example = list(ds_head)[-1]\n",
    "example"
   ]
  },
  {
   "cell_type": "code",
   "execution_count": null,
   "metadata": {
    "colab": {
     "base_uri": "https://localhost:8080/",
     "height": 52
    },
    "executionInfo": {
     "elapsed": 202,
     "status": "ok",
     "timestamp": 1683811566490,
     "user": {
      "displayName": "Maria Khalusova",
      "userId": "02939168343837494293"
     },
     "user_tz": 240
    },
    "id": "1WfWUoqz_RsJ",
    "outputId": "12ea2ac2-b8fb-4399-ba7f-81c55b3a1ab2"
   },
   "outputs": [],
   "source": [
    "# Listen to the example's audio\n",
    "\n",
    "from IPython.display import Audio\n",
    "\n",
    "Audio(example[\"audio\"][\"array\"], rate=16000)"
   ]
  },
  {
   "cell_type": "code",
   "execution_count": null,
   "metadata": {
    "colab": {
     "base_uri": "https://localhost:8080/",
     "height": 466
    },
    "executionInfo": {
     "elapsed": 794,
     "status": "ok",
     "timestamp": 1683811355011,
     "user": {
      "displayName": "Maria Khalusova",
      "userId": "02939168343837494293"
     },
     "user_tz": 240
    },
    "id": "r_xJTQIr76eL",
    "outputId": "e009f8c6-739e-4fa3-e546-ceb36bd7fc22"
   },
   "outputs": [],
   "source": [
    "# Waveform\n",
    "\n",
    "import librosa\n",
    "import matplotlib.pyplot as plt\n",
    "import librosa.display\n",
    "\n",
    "array = example[\"audio\"][\"array\"]\n",
    "sampling_rate = example[\"audio\"][\"sampling_rate\"]\n",
    "plt.figure().set_figwidth(12)\n",
    "librosa.display.waveshow(array, sr=sampling_rate)"
   ]
  },
  {
   "cell_type": "code",
   "execution_count": null,
   "metadata": {
    "colab": {
     "base_uri": "https://localhost:8080/",
     "height": 472
    },
    "executionInfo": {
     "elapsed": 835,
     "status": "ok",
     "timestamp": 1683811361939,
     "user": {
      "displayName": "Maria Khalusova",
      "userId": "02939168343837494293"
     },
     "user_tz": 240
    },
    "id": "otggkMnk8kQP",
    "outputId": "c2d15e7c-fcdd-4e53-c856-dd650c4a576a"
   },
   "outputs": [],
   "source": [
    "# Spectrogram\n",
    "\n",
    "import numpy as np\n",
    "\n",
    "D = librosa.stft(array)\n",
    "S_db = librosa.amplitude_to_db(np.abs(D), ref=np.max)\n",
    "\n",
    "plt.figure().set_figwidth(12)\n",
    "librosa.display.specshow(S_db, x_axis=\"time\", y_axis=\"hz\")\n",
    "plt.colorbar()"
   ]
  },
  {
   "cell_type": "code",
   "execution_count": null,
   "metadata": {
    "id": "_HVDy42F9KZv"
   },
   "outputs": [],
   "source": [
    "from transformers import pipeline\n",
    "\n",
    "asr = pipeline(\"automatic-speech-recognition\", model=\"facebook/wav2vec2-large-xlsr-53-german\")"
   ]
  },
  {
   "cell_type": "code",
   "execution_count": null,
   "metadata": {
    "colab": {
     "base_uri": "https://localhost:8080/"
    },
    "executionInfo": {
     "elapsed": 1702,
     "status": "ok",
     "timestamp": 1683811366843,
     "user": {
      "displayName": "Maria Khalusova",
      "userId": "02939168343837494293"
     },
     "user_tz": 240
    },
    "id": "aniAB6gr-K9s",
    "outputId": "2f196d9a-0d6c-496b-cb3e-7a6bbce8ac11"
   },
   "outputs": [],
   "source": [
    "# Compare the results\n",
    "\n",
    "print(asr(example[\"audio\"][\"array\"]))\n",
    "print(example[\"raw_text\"])"
   ]
  },
  {
   "cell_type": "code",
   "execution_count": null,
   "metadata": {
    "colab": {
     "base_uri": "https://localhost:8080/",
     "height": 52
    },
    "executionInfo": {
     "elapsed": 229,
     "status": "ok",
     "timestamp": 1683811606422,
     "user": {
      "displayName": "Maria Khalusova",
      "userId": "02939168343837494293"
     },
     "user_tz": 240
    },
    "id": "W51yN3mk-ggi",
    "outputId": "2f13ae0a-131c-44dd-a2fe-2defc2faa341"
   },
   "outputs": [],
   "source": [
    "# Once again, listen to compare. Even though the output doesn't match exactly the provided transcription, the model actually does really well.\n",
    "# You don't really hear the \"Denn es gibt bio\" part in the Audio.\n",
    "\n",
    "from IPython.display import Audio\n",
    "\n",
    "Audio(example[\"audio\"][\"array\"], rate=16000)"
   ]
  }
 ],
 "metadata": {
  "colab": {
   "provenance": [
    {
     "file_id": "1NGyo5wFpRj8TMfZOIuPaJHqyyXCITftc",
     "timestamp": 1688665752057
    }
   ]
  },
  "kernelspec": {
   "display_name": "Python 3 (ipykernel)",
   "language": "python",
   "name": "python3"
  },
  "language_info": {
   "codemirror_mode": {
    "name": "ipython",
    "version": 3
   },
   "file_extension": ".py",
   "mimetype": "text/x-python",
   "name": "python",
   "nbconvert_exporter": "python",
   "pygments_lexer": "ipython3",
   "version": "3.11.2"
  }
 },
 "nbformat": 4,
 "nbformat_minor": 4
}
