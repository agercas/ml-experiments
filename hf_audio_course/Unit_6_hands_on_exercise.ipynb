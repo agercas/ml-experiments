{
 "cells": [
  {
   "cell_type": "code",
   "execution_count": null,
   "metadata": {
    "executionInfo": {
     "elapsed": 13408,
     "status": "ok",
     "timestamp": 1688993054037,
     "user": {
      "displayName": "Arnas Gercas",
      "userId": "05721695559367193707"
     },
     "user_tz": -120
    },
    "id": "MlidsZNcqeqx"
   },
   "outputs": [],
   "source": [
    "%%capture\n",
    "!pip install gradio transformers transformers[torch] datasets[audio] evaluate jiwer datasets soundfile speechbrain accelerate"
   ]
  },
  {
   "cell_type": "code",
   "execution_count": null,
   "metadata": {
    "colab": {
     "base_uri": "https://localhost:8080/"
    },
    "executionInfo": {
     "elapsed": 353,
     "status": "ok",
     "timestamp": 1688993054378,
     "user": {
      "displayName": "Arnas Gercas",
      "userId": "05721695559367193707"
     },
     "user_tz": -120
    },
    "id": "w9Wkh9LSqi9B",
    "outputId": "7027f213-6007-4af0-9b5c-3a49d159f442"
   },
   "outputs": [],
   "source": [
    "! nvidia-smi"
   ]
  },
  {
   "cell_type": "code",
   "execution_count": null,
   "metadata": {
    "colab": {
     "base_uri": "https://localhost:8080/",
     "height": 359,
     "referenced_widgets": [
      "4725d78fe28345cb9d16447ce20a588c",
      "6f30306b58b8490a8a32723c760fc2c0",
      "053150d56fa0417e804b33a1f659576c",
      "86eeff3a90de447fa30fe5404b6dfddb",
      "2fb37377feae4e68ac4492e6173d255a",
      "35c3e006d05f4da09912bf0a58867cf4",
      "bad7d577a7af4ac1b5d92ca1dd63a891",
      "4ef2578f5b894baeb41dfc1b273ef796",
      "997d6ede9dd746a9b4365112a63e515f",
      "f2d0e616c07c4aeabd1a4f89bfe76db7",
      "ef7bece71f63425e91717ed85846eea4",
      "c45d0399a61d41549bda0df1a80fb0cd",
      "4d283a13e9ee4c30920f6ebda9cf29df",
      "b62455c1452946028b4f49cc0c11815c",
      "33fce8bcac774e40b28d5afbb9de9ac6",
      "4f192653d2c14c3d82c6b1d439be6858",
      "b7dabfb66f4d4813bff79d9729b97333"
     ]
    },
    "executionInfo": {
     "elapsed": 579,
     "status": "ok",
     "timestamp": 1688993054956,
     "user": {
      "displayName": "Arnas Gercas",
      "userId": "05721695559367193707"
     },
     "user_tz": -120
    },
    "id": "UtBX1u1-qjJH",
    "outputId": "182988f6-d05c-4c11-dd95-470fb3005ce4"
   },
   "outputs": [],
   "source": [
    "from huggingface_hub import notebook_login\n",
    "\n",
    "notebook_login()"
   ]
  },
  {
   "cell_type": "code",
   "execution_count": null,
   "metadata": {
    "colab": {
     "base_uri": "https://localhost:8080/",
     "height": 633,
     "referenced_widgets": [
      "47118b2db8204d56b0b3ad7e241c70e4",
      "b8e8851c3ba04268b388fc47a492492c",
      "040d8f0d21614b47854189495a8cb3ec",
      "ee30359b2eef4534955a76149d31bd83",
      "a230342b4ecb44aeb82720993bd30631",
      "d3b111caabb24d029c2cb0b1f699a863",
      "3c6704f8eba14a6cb90411e62adb3e6a",
      "5e91b4cbbe3d4323ac769ba05c11ef82",
      "c2345f2a73334a5bbf892a98d2211215",
      "b7dd33d7cb05401483f7886cd93ba6cf",
      "7756e737555341d18e3f1b713374f781",
      "d346037b85104cc7bdaae167a5ede627",
      "4d1133dcfd4d4451bdf64385ffa90c4d",
      "eb248ec7eae74007938cc6cf1e0910ae",
      "4bd781b97bf648ef83795837580be315",
      "4acd3ead855a42eab8abc48492397d33",
      "3867fcbeee3446ca8f2c90535d4ceda1",
      "7210dfa423344b9391f9458e267633bd",
      "b729eedb8641468cb9ebcec37d94361c",
      "9b7af73b358f4f6ba11f3eef24c5a690",
      "56baf06263e14641a8642247eab12dec",
      "122dceb9c4624275a1b6bcd01fe671ed",
      "e69a9b9faffb44df8c20f5364be71fb2",
      "d247ea952ece46cdbe636ec8e2bff0ad",
      "925cb75415614e4aa1dc0b6a9811cd48",
      "6397cd4449434ed58890ad70b4557d27",
      "58697a69eaf04851a3586e9248cbfcdd",
      "6545622bb9814970adba208fc1241ffc",
      "b0cecfdb5a1b43c3b06aca602bf2a8c5",
      "cc93d5b09e9140b28000b33a4a31e79f",
      "27afb964dc2b44bba1b9b9770f438674",
      "953fff18ace849ab93e1f35ea26f0ecb",
      "9209ba2acdee411a93ca31fbdcd8ffe5",
      "57ac5c885aad4b0e899f0c2453b3c763",
      "127c433bdc764c01b6262e534d23d928",
      "239663b7853f40d8b18bf2aca626a822",
      "3520dce62aa5475a9d72be162e9317dc",
      "3c1ab2231a9b4ad79f6003b5d02c7fd6",
      "7f21f9b2d0104c88a01f2cdf624b41d3",
      "dd52365cd66644f59316ae3c6b09cc08",
      "9c5e54305fd74237bdcfc6f6d1fd4ca3",
      "9e18bbc9c7fe493db6fb283d1768c198",
      "a78e589f05c1444ba6b8b07d31031c9f",
      "68239f25b45e454e830803e1f478630c",
      "e629d472956345da8636664ecf0a82ca",
      "86a8bc31f6744f32970b4e6e36c39ebe",
      "8628df9ece5d45e7a54744e420984181",
      "e404c01895ce4ba782b956efb4bc40b6",
      "345f2312bb4a497099c6ea5fce467c3d",
      "2600e78f713446dbb1571149e37ef9d3",
      "10bbe0b21a2a4a2195ec2b1bc10db31a",
      "bb1f93ec417a4c55aa7ad770caf1c647",
      "8a88b64455da4d919fb8adfc041a33a4",
      "4205a89cc8ee4aadb53c6deb55ee0de5",
      "cc89b23dab0e4a808763d62894e4c2aa",
      "364fa5c32f9b4474b85d6fec391f395b",
      "adcc37f296d540879a0022c8822e5e05",
      "a9475e3dfc25498eb840927f943e5f99",
      "3b5b7b96e3674f39a910d5e330c931b4",
      "6e226f53a96f48e887397d1bad0caaf9",
      "877a21dbcb524ed7a2ef4c6240041d2d",
      "49db49b2f40c4354a46c8acc506d8c06",
      "cc99b0af1dc54fb481384f48140dba48",
      "43be61bae7fd4cb199f4360945159699",
      "fa3c6ebc7bd64ba191277ed42a8a14c7",
      "7b6d828241e74bceaa2cbf66c71aeb16",
      "2bfc623fe68e46dcac9320eaf6d2c3b1",
      "5f9116edf3ee43cd903955427542f3b4",
      "677c63e06db94ab88e76ec5438cfd4fe",
      "0cadec6b70f445f2834cef4e7abcff05",
      "ab3eaef494a745ecae1b403845b488cf",
      "42faf8242561470a8684420e9cf30108",
      "35808af61f3342199f13c2b6a69f6274",
      "93d2d17552d24995a626034b8b1d8ce8",
      "078d5f5fd77d495e95c31b0f6d7485d9",
      "3497862c62c24b5db72d4fae222dd1ec",
      "f6885c8f98244a80b8364e8504c4c792",
      "f98a8e82853547fcbc5ec1b3bfcd861a",
      "86981997ef0e4775afcd70ec1476a7ec",
      "4554079ee22745e8a6c922aade98b485",
      "c9ebf34399f2432ea67df1644cb4ec22",
      "46c01d6b02074c8890662c7417da7fcd",
      "70c9f91c0a3d47c08c7dcc8b9ecc8a63",
      "9a108866069c4bd1850ee9d7f62e6b53",
      "faa71d092aa74930bfdd7bba31216517",
      "4e98f97d102b40b3bfc950fd41063a3d",
      "96ed6084e98a4c71b68f71cbe1540dc5",
      "00734109002e4d8a80b7f7f7a117c0ad",
      "53b0d6bce0284b6daa9754fc35209da3",
      "ff1744e3776e45939c255f4daced9bcb",
      "a5250762cc1b456f9618c921cf366ef9",
      "0168d6a9af8942e3a7114d6a386e13e0",
      "ebb00d7ae7e84e7d9e4b57a26abc661a",
      "f3d22fa2296342e48e158216de5e5446",
      "5c5fb10071b7412c9cedc9ed30c9eb45",
      "1a31587a2c44433085292c70e8be30ef",
      "9715493364ff4b3ea72e4d1857fc3c9d",
      "3dfebaa430ed4ff69a733859a71bca61",
      "4904d0076b744f138446c545ce76cd0c",
      "4c7594967e19499fb83939e339607450",
      "7d6fdbab707b4b30b16f4385dd78eb4c",
      "b5d1dbe28e9a41aba582381407b6f7fa",
      "e40b3fac896544ac9c6417b8746a8ef1",
      "37fe04bc83a04b1e8bcbbffbe34f7eab",
      "e2fdaf13c7b74a58b754bd75ea5944ad",
      "1413c8054d39421ca1b5aee2ad54a524",
      "28266d5378ac4346906be5ad2a23ba31",
      "8611fe79042b42bc828d609e927771d4",
      "8df7432169b04593b455ac00fa18a72a",
      "7a466715455b48febf6c63932e570b9f",
      "de715ac83f7844e7a834efe653269d89",
      "4e77e83a715148f694adb4c3c5d63d40",
      "2a392d83f89e450aa5d2fd11852408ab",
      "b68cc831dc2a4ce5aa1c687e7f73620a",
      "7fcfe85195a64fbda14b64afde1c3910",
      "afb0780169c04b3a9e917f6f9a323d84",
      "f048774061874c32a53364431a3a3cfa",
      "1d15886f714b47f3ba30f7082d089821",
      "66bfae7617b14557ad528d92df7e894c",
      "91f87a01969d4970b5d386103a05af63",
      "e94ee8b6a405412e83db3c0f84f120eb",
      "4c5e5f67dab5455fad6d20a4fa7b053b",
      "eccde7ee12f141cabb6001cc94f3811a",
      "20f0075036184b1390ec0986b94f9a0f",
      "9aa644ba002645f1989d6f3f96d18519",
      "5b1d3c1075c0471d964c56dcdc33bbca",
      "42bc4cd03bbb4e91981dbd10a7f10f4a",
      "563ac1e62d0b489b9175fa20b009ed43",
      "d1cf383bf97c41129c316bfc55b8a2b5",
      "cbbb1788a9d34d4ab2194223f1373a41",
      "6ade834b22a147a0b0da24839888a093",
      "c43abe4d159c4dc985e326f88feb1fea",
      "3a86bb1bfb7f42e98fcf453a651bb13d",
      "0967a13a00b74ef29cfeadbf3865f7c9",
      "4d45427b27dc4fd2ae9d346b76830a23",
      "7286221db1be4f0fb45e8421b1a0a635",
      "ce4b54a1c6ab49768353e19aff616369",
      "d98dc66a54614e2cb4b3d455613c19ad",
      "52519bbe33314fbc9db180db8dca0019",
      "de4c2237cc4e46df97aa4f4424005b7a",
      "628d375faee648e9b297f7d95a081c00",
      "80c4189c9de2474cae39a14ff6fcdbdd",
      "fe1843e7e4f841479f2bf07e124e3b3c",
      "e9debf2b14d74b23a03c8e4b268444c4",
      "06056388ab5a4cc9b236b5a6655186c4",
      "86ea50620a58496aababa2eba68110b5",
      "663cc69006b84c80a14e29a5edd3cdaf",
      "11fb2f21e7114c3383bc423b4e7cdaa9",
      "586ac3d986aa4f54926b15f795111248",
      "04132e2b37fe40b5815a336a4a27e500",
      "6d3bdcdef59e46dc8cc27368854762ed",
      "ead95195450b49e395523d8a9963313c",
      "42971c9607534d60888f1df104b0ebd0",
      "4f8e465e34574a65b2a84ab43a4b93c3",
      "5f30c3e1ade84a20b1c603a2192b797f",
      "523262bfc1794968985b3b8f85935c13",
      "240caa5c989544198aaa4cce9d01b834",
      "466d8fda78bf48be9627025a764c5dfd",
      "beb43e971202458c8e901941a3f6abc8",
      "b357686d9dab45c6bbd39027cf4945b4",
      "917ac6ef1013475790c1a63313f22a8b",
      "b0657c4ab87b478883f54c6330cdb93b",
      "9f2cb2b894cf4d718f393469d90818fb",
      "6692fcf200cc4772ac243a4655db53fb",
      "faa03916b2f94669822a3a3f31fdd547",
      "320da084a4d046e4aaf08ea1e117ea94",
      "b24266433aed48d698f43482561b95c1",
      "1a6ee209f26a486380e28fc18144b017",
      "d57c475ed96b4d488d53779316a8d129",
      "52d5ec6306294a29af3f9555b6a4c8a2",
      "8c8e1e2efb5f45998fb7d9550e568ed9",
      "69cf41e57c954cb1a794135543d8d2be",
      "658fe79a29ed4269bebe4903ea8db868",
      "b1508d9037ad4d65bd9587fa22714c60",
      "332481bc139e4ee5bf92cc3e6cc0b0fa",
      "950e9ebb46424b2aba4a47bd20aae774",
      "c0fa49bc24534a85afa66a99322466b8",
      "80ce29d03ae24a5c8ed30d9bba8390a0",
      "4a7d9e86c98f403eaab45e1542ad55a1",
      "abaf54b592ec432795809cfe40356d56",
      "8683585a9d1f4819bef48f89f51d2093",
      "87c40d76050b42debe85ff7dfc779c28",
      "1c59b2a0b4b54495a6be2bfddd6b700e",
      "702396735451447aac5b0e01d13587e5",
      "f186e6af2c1f48fcbbc4619d83c3b4e5",
      "ee5927ba663b450faab0cae746425f51",
      "52d3b187ebba40d684a076943d756b87",
      "bdb7d51b87624031bf3c9c36169796e5",
      "69358c24598a46349405df369e7755e5",
      "29394cc68ca34405851a9105e11d37f0",
      "dd7dd00dadf8414f8f409bbac2635f1a",
      "845741d4cbf1447fa4f3427ee9e13fd5",
      "9f77c55243f8445ba6969d790f2c44ba",
      "5cbfe5189e004cd686800e4c68622f2d",
      "73d442290d8f462db7fff5a15b54abac",
      "e729e4343308485082a4f8d31b2bfb16",
      "b1f9f4d0e82b4deaa31887684e8ce328",
      "01044f5909094f98ab7aaebdd0556559",
      "8b7662b0b6ab4b09b245856959ae903c",
      "eb7998f3688944f9b12ab4e5122ae1cf",
      "b860e2680593462fbd312412617bcce4",
      "f2b8b33912194728926ac0ee27dd2016",
      "b9f39b1b3bd74f9cb567e98513611477",
      "a2069f0420594586911b5670bd438bb9",
      "eee3d19391f04b78993c72edc92871d9",
      "79d7c6723d944899b48a736c09276303",
      "7594a80a404242b9a84aa94de0eb3b3f",
      "da01edc404ba4a26be793c3356a5843b",
      "db2a340e722944829c5dbc51b1aba452",
      "5356e690e8354ac5ad26e298b9d5f7f0",
      "c975805f3ecd486d8245c942081d2fc2",
      "8237bf61f6c44bff82ba5829537d4842",
      "8bf4908ad72f46c7b98e0d562ca00f7a",
      "cf047bd8654840ebbfb6377a12e80f53",
      "6b8e410d9d334b209ac7c5cc638e2c13",
      "40eaace0a29e4a5c9d5cb4bc10e37850",
      "ade8092faf21478fa1347607ccb641e1",
      "8b48161d9b5c46a08720131a69057846",
      "c1b6deaf5b6e4e99a8b0bd9c85f74bc9",
      "90d69f33aea1416eb0e7f2afef39b0cb"
     ]
    },
    "executionInfo": {
     "elapsed": 386117,
     "status": "ok",
     "timestamp": 1688993441071,
     "user": {
      "displayName": "Arnas Gercas",
      "userId": "05721695559367193707"
     },
     "user_tz": -120
    },
    "id": "JEDkmqkxqjaK",
    "outputId": "69713eb2-b04c-4e4a-ee41-29f8fbaf4f5c"
   },
   "outputs": [],
   "source": [
    "from datasets import load_dataset, Audio\n",
    "\n",
    "dataset = load_dataset(\"facebook/voxpopuli\", \"nl\", split=\"train\")\n",
    "len(dataset)"
   ]
  },
  {
   "cell_type": "code",
   "execution_count": null,
   "metadata": {
    "executionInfo": {
     "elapsed": 18,
     "status": "ok",
     "timestamp": 1688993441071,
     "user": {
      "displayName": "Arnas Gercas",
      "userId": "05721695559367193707"
     },
     "user_tz": -120
    },
    "id": "9jdjLuawqjlW"
   },
   "outputs": [],
   "source": [
    "dataset = dataset.cast_column(\"audio\", Audio(sampling_rate=16000))"
   ]
  },
  {
   "cell_type": "code",
   "execution_count": null,
   "metadata": {
    "colab": {
     "base_uri": "https://localhost:8080/",
     "height": 177,
     "referenced_widgets": [
      "1993363217a94bf596139a9e815638ab",
      "7dccd8e5fdb54317afe391046887e155",
      "c6b85ed5d0644acd8640d365921d5b57",
      "a4f24c91a5d64c9d9e31cba5058469ae",
      "510e1dca0d8645b992397171b80af110",
      "b23b09d64ba845aaaa8ad5cf032c2417",
      "e9f479356db94b07b19e35bdcee94f45",
      "7a2c9c9f19cf483bb55f367ee651fab7",
      "f357b0eacba0432db43a8da4b783a0ec",
      "ce747db6abb54466bb5ed8973c195cfe",
      "6aae95b99df04877bd740163d20dc36c",
      "2d4051844e7f4367aa03fb1594a10161",
      "42fafb5faca84dd9819639e60b94fc1e",
      "f675037612e24749a1c6eed22a9f806b",
      "67837f7aa56b4c48ad83a26f4a959fe9",
      "f2f3aec37e204a9b98c13235a74492d9",
      "49227ab338aa4acf89f909fc4388adb0",
      "14d5b45c4bdf491aa56e045775ea071b",
      "1fb2a4b3e0554077a26a68beea9ffb49",
      "a81bae8d22c84fb592d052afabd8915f",
      "67b918e0fbb349668042e168a30c6679",
      "b0990ac67ed442138e2c7ce5ded893af",
      "51bc39077d214035927c44b086126bd3",
      "2992f658514143a9bcb111abcb3e109d",
      "f757641c35ae4516be851a5848e8ce28",
      "be558edfacfd48ed8a741af6b2404d9d",
      "3c12356c9b844028bb6d73ade2513530",
      "90ad5847923048b59c7838253f9603b7",
      "3a4d67d5e8f64dfb9822d3e176c8a0b1",
      "cd2d61fdedc14644914aa9ed4665b24b",
      "d6f7e30a36244fc88caef9fef2f12874",
      "7b5c097db60c46bfa83a839c339dbda1",
      "66aeff5bb8b44de29496c4bb8659ecf2",
      "8837c1ff8df04786bc4c4e011fa44596",
      "0ab383466caa439991a907932e316641",
      "04461484abdc4d3c941f70fa12f226fa",
      "dadb858b4f7d459992f2dbbca18765ff",
      "1f95bd654c874bbca1d07788ee62b124",
      "8774dacaae4f4930839f7a8752586305",
      "114ae4844c7f46b88274d9c398422ce2",
      "c28db96c215c4ea7a07a391df6dd7b64",
      "d663f7ed9da94ca3b1dc95ab657bbe44",
      "1b8843a96ff749aabf0c5b31e0006bf6",
      "8ca2b222f2884b2f880e9fde172f84c1",
      "dc76e9b341204036b2808ffed9f7387b",
      "074a323e128744d3bf1108d3ade3cd11",
      "aba0c53ba3df4d88b9a860bfb37e3aa1",
      "bf439590e6bc4578b640c8b5d31b30f0",
      "7f8649a4b1c24a1ba2804b45e5d91cc2",
      "9e00a4cc5e50482999846225c4ea3281",
      "cea8e1f1e1234e88b68871966e0d5814",
      "f80fd94e15c94b2f9b1d60e846a13ac8",
      "dd2b4e75c784473bbcfe24721501bb19",
      "dbb887617a244ea1a6e0fbd3433c2069",
      "fddf75584e0447389b3402573b77f972"
     ]
    },
    "executionInfo": {
     "elapsed": 7022,
     "status": "ok",
     "timestamp": 1688993448091,
     "user": {
      "displayName": "Arnas Gercas",
      "userId": "05721695559367193707"
     },
     "user_tz": -120
    },
    "id": "jRR30VmhqjwW",
    "outputId": "ff5ddf3c-195b-40a0-e7a4-891cc2d43563"
   },
   "outputs": [],
   "source": [
    "from transformers import SpeechT5Processor\n",
    "\n",
    "checkpoint = \"microsoft/speecht5_tts\"\n",
    "processor = SpeechT5Processor.from_pretrained(checkpoint)"
   ]
  },
  {
   "cell_type": "code",
   "execution_count": null,
   "metadata": {
    "executionInfo": {
     "elapsed": 6,
     "status": "ok",
     "timestamp": 1688993448092,
     "user": {
      "displayName": "Arnas Gercas",
      "userId": "05721695559367193707"
     },
     "user_tz": -120
    },
    "id": "JgmPQebCrhEK"
   },
   "outputs": [],
   "source": [
    "tokenizer = processor.tokenizer"
   ]
  },
  {
   "cell_type": "code",
   "execution_count": null,
   "metadata": {
    "colab": {
     "base_uri": "https://localhost:8080/"
    },
    "executionInfo": {
     "elapsed": 8024,
     "status": "ok",
     "timestamp": 1688993456112,
     "user": {
      "displayName": "Arnas Gercas",
      "userId": "05721695559367193707"
     },
     "user_tz": -120
    },
    "id": "YZkkzqDHrhJd",
    "outputId": "31ac3c51-a7f3-4bce-8ad1-1291d1346a57"
   },
   "outputs": [],
   "source": [
    "dataset[0]"
   ]
  },
  {
   "cell_type": "code",
   "execution_count": null,
   "metadata": {
    "colab": {
     "base_uri": "https://localhost:8080/",
     "height": 17,
     "referenced_widgets": [
      "ec819bdf1daa4d178d558133e48740a2",
      "821d1953f78d40c4ba3fa1cc7d4cb86d",
      "0ad99473102c4c4fabee15e91e6a6eb0",
      "6bb6fc66e1fb4f79baccc1d4a92eb645",
      "e2b7e03923b640c9bcd4f15f407adc12",
      "94712514ced14f54a0d3c85d67e6c9ec",
      "29b4db94fe7a47128aed504c22f81cbc",
      "a75d06e313f74f0ba374b44fbc2b64b2",
      "8f235d5998b24638a3af84a0e59adb1d",
      "6403ebfba8524788a2792b6ff244070e",
      "3a3e8e17ff7c4f759a264487f3b4ee45"
     ]
    },
    "executionInfo": {
     "elapsed": 12,
     "status": "ok",
     "timestamp": 1688993456112,
     "user": {
      "displayName": "Arnas Gercas",
      "userId": "05721695559367193707"
     },
     "user_tz": -120
    },
    "id": "LycvrFawrhQm",
    "outputId": "7f297ded-3db1-4f8a-90b4-af8b4f819cdc"
   },
   "outputs": [],
   "source": [
    "def extract_all_chars(batch):\n",
    "    all_text = \" \".join(batch[\"normalized_text\"])\n",
    "    vocab = list(set(all_text))\n",
    "    return {\"vocab\": [vocab], \"all_text\": [all_text]}\n",
    "\n",
    "\n",
    "vocabs = dataset.map(\n",
    "    extract_all_chars,\n",
    "    batched=True,\n",
    "    batch_size=-1,\n",
    "    keep_in_memory=True,\n",
    "    remove_columns=dataset.column_names,\n",
    ")\n",
    "\n",
    "dataset_vocab = set(vocabs[\"vocab\"][0])\n",
    "tokenizer_vocab = {k for k, _ in tokenizer.get_vocab().items()}"
   ]
  },
  {
   "cell_type": "code",
   "execution_count": null,
   "metadata": {
    "colab": {
     "base_uri": "https://localhost:8080/",
     "height": 17,
     "referenced_widgets": [
      "bab782b6d5bb43eba1176eeec7e287f6",
      "069650d931d248d9b72253da5f9d2e6c",
      "b12c248669b348a8b05d39e2d511f02d",
      "ec8fbd6487e9431eb7a39d1b003d7839",
      "3f84ad7a866e464c972775231e436e28",
      "b6020e60c8f7476d8876f6c9ad7fb52e",
      "7a7d6d08aa6641baa738a98d7022be84",
      "bbc1e6a1bae5434ca4e4c3ccd869b15a",
      "cd5656a257f842cbb130e03185c4e65d",
      "70fc4a57513a47188131b3b7e294756a",
      "117c41b2be6a4ea1a076572bcda006b2"
     ]
    },
    "executionInfo": {
     "elapsed": 4634,
     "status": "ok",
     "timestamp": 1688993460737,
     "user": {
      "displayName": "Arnas Gercas",
      "userId": "05721695559367193707"
     },
     "user_tz": -120
    },
    "id": "-odZspnArhYQ",
    "outputId": "687c16b9-89d7-465d-a08d-36437564c5ed"
   },
   "outputs": [],
   "source": [
    "replacements = [\n",
    "    (\"à\", \"a\"),\n",
    "    (\"ç\", \"c\"),\n",
    "    (\"è\", \"e\"),\n",
    "    (\"ë\", \"e\"),\n",
    "    (\"í\", \"i\"),\n",
    "    (\"ï\", \"i\"),\n",
    "    (\"ö\", \"o\"),\n",
    "    (\"ü\", \"u\"),\n",
    "]\n",
    "\n",
    "\n",
    "def cleanup_text(inputs):\n",
    "    for src, dst in replacements:\n",
    "        inputs[\"normalized_text\"] = inputs[\"normalized_text\"].replace(src, dst)\n",
    "    return inputs\n",
    "\n",
    "\n",
    "dataset = dataset.map(cleanup_text)"
   ]
  },
  {
   "cell_type": "code",
   "execution_count": null,
   "metadata": {
    "executionInfo": {
     "elapsed": 28,
     "status": "ok",
     "timestamp": 1688993460738,
     "user": {
      "displayName": "Arnas Gercas",
      "userId": "05721695559367193707"
     },
     "user_tz": -120
    },
    "id": "oT3KwqR0rhev"
   },
   "outputs": [],
   "source": [
    "from collections import defaultdict\n",
    "\n",
    "speaker_counts = defaultdict(int)\n",
    "\n",
    "for speaker_id in dataset[\"speaker_id\"]:\n",
    "    speaker_counts[speaker_id] += 1"
   ]
  },
  {
   "cell_type": "code",
   "execution_count": null,
   "metadata": {
    "colab": {
     "base_uri": "https://localhost:8080/",
     "height": 449
    },
    "executionInfo": {
     "elapsed": 371,
     "status": "ok",
     "timestamp": 1688993461083,
     "user": {
      "displayName": "Arnas Gercas",
      "userId": "05721695559367193707"
     },
     "user_tz": -120
    },
    "id": "QHiJJe7crhlP",
    "outputId": "45500ac9-9970-4e3d-d016-77c72edfab95"
   },
   "outputs": [],
   "source": [
    "import matplotlib.pyplot as plt\n",
    "\n",
    "plt.figure()\n",
    "plt.hist(speaker_counts.values(), bins=20)\n",
    "plt.ylabel(\"Speakers\")\n",
    "plt.xlabel(\"Examples\")\n",
    "plt.show()"
   ]
  },
  {
   "cell_type": "code",
   "execution_count": null,
   "metadata": {
    "colab": {
     "base_uri": "https://localhost:8080/",
     "height": 17,
     "referenced_widgets": [
      "3e4c3fc14b36479db5eb34d890720c05",
      "af034aeb423e48b1b72d7aa7b7ccea04",
      "3f4c2caf89cb4994951f4be50d4a94b9",
      "abe6440cbe1d43b4960b1f83cdc4f928",
      "d75ba7b0b8774b95946a98f83a3c7a84",
      "3aaed740ea724b1abf9b459850becd4f",
      "8643d7865f724966ab434f7ce8edc51b",
      "ddcf830630a14e2db0a3d0616bf364a6",
      "27e8a53f027c4db3b5cf8de56072617b",
      "1784db3d31a145e993a8ce4ef3dc71b6",
      "bbe1274088fa44a7aa51ac931bb9e594"
     ]
    },
    "executionInfo": {
     "elapsed": 206,
     "status": "ok",
     "timestamp": 1688993461280,
     "user": {
      "displayName": "Arnas Gercas",
      "userId": "05721695559367193707"
     },
     "user_tz": -120
    },
    "id": "NixpxFpnrhsS",
    "outputId": "91dd5ff3-28fd-4bf1-c9d0-1cd6919f4762"
   },
   "outputs": [],
   "source": [
    "def select_speaker(speaker_id):\n",
    "    return 100 <= speaker_counts[speaker_id] <= 400\n",
    "\n",
    "\n",
    "dataset = dataset.filter(select_speaker, input_columns=[\"speaker_id\"])"
   ]
  },
  {
   "cell_type": "code",
   "execution_count": null,
   "metadata": {
    "colab": {
     "base_uri": "https://localhost:8080/"
    },
    "executionInfo": {
     "elapsed": 3,
     "status": "ok",
     "timestamp": 1688993461280,
     "user": {
      "displayName": "Arnas Gercas",
      "userId": "05721695559367193707"
     },
     "user_tz": -120
    },
    "id": "4HJIMYBFrhy8",
    "outputId": "a969f155-036a-43e9-e37e-17cece373251"
   },
   "outputs": [],
   "source": [
    "len(set(dataset[\"speaker_id\"]))"
   ]
  },
  {
   "cell_type": "code",
   "execution_count": null,
   "metadata": {
    "colab": {
     "base_uri": "https://localhost:8080/"
    },
    "executionInfo": {
     "elapsed": 209,
     "status": "ok",
     "timestamp": 1688993461487,
     "user": {
      "displayName": "Arnas Gercas",
      "userId": "05721695559367193707"
     },
     "user_tz": -120
    },
    "id": "7BnlVj9vrh5l",
    "outputId": "6e3b2ca8-189c-4d24-cd6f-668611027513"
   },
   "outputs": [],
   "source": [
    "len(dataset)"
   ]
  },
  {
   "cell_type": "code",
   "execution_count": null,
   "metadata": {
    "colab": {
     "base_uri": "https://localhost:8080/",
     "height": 177,
     "referenced_widgets": [
      "dbe68cf9164b4951900a03884fd5844a",
      "8f816b83c10c4e25857d58c937c7990f",
      "870148784bfd4b2f802700509c1ba5f3",
      "26a776cb117e496cbef7f0e33ecc797c",
      "6355d6fe06064c5ba4db9f0a4e258519",
      "2785b7c0af7a4390a073cfa80f74dfa9",
      "e799380438fc4b6486044f41a0ca90e0",
      "d5e8e2a97eab44d3a7a1e6490dd11868",
      "392ea801f75b496aa1bf619824c5400d",
      "ed3238cfd6944201a497e618c3b37839",
      "90ca2813c71a440ea0610798f35786fc",
      "da78be262b0e4fddb82ed219252061ff",
      "24c4996fba684fde868b4f6e4d93f7a0",
      "f5e92f672bfd402d95ead5173553a286",
      "49333cb1616645f9958522dc4b26120d",
      "0e549b3dc67b4dc3b66489c95c2dbcff",
      "7654fba1c8a14eb0a1f6555ff04da108",
      "d5a4427de3e545edb0d1dd797e560cff",
      "a367abcaf6c941c282c657bfdbe26441",
      "ffef1d04dba644c3904dff350761a996",
      "e82bce29ae4042da81c079c5241ee1e2",
      "e3c7bac451d7499e9930ab40fa49cddd",
      "51bb4a28900f4cf8bc604c457c124be2",
      "c5d6789f7bf04e2aab1820dcfb469a0f",
      "bdafb7718d844c6e90ef4d605da1ea1d",
      "1f30b12eb221453a8cac76e51f8c835e",
      "62531dc0e78e469d91d47b6b136372d3",
      "4bb0af1f3377486fa4f0fc4b004f1805",
      "21fde664731d4cdb96c7e57b119d739c",
      "dbc5ea9ba9494d4fb3a2809b4b2c7d3f",
      "63a0ba315020488f90730f59a7494779",
      "77ca4dbd242b4915b5523550a82e88e4",
      "4a5e243d8dc6493d83da5ec1d7be9fe3",
      "397e088b0dd8411f865c2723a2034022",
      "408b0957681345469977adad3c19299e",
      "440e7b0152f94b32bb889780de26bce9",
      "ed4f620da130487b8988e92316def19a",
      "319385023f5d46c2b5221327cf5d53fe",
      "2e0710aa23674c12bbc784b8b40bc74f",
      "a6cf13fe36a44223818f69979f966bbf",
      "72eb999929044dd58a3ee38004f361be",
      "e137e50d5b9242f5adfa67308d252883",
      "d0d939ec6b5e48ffb786d8341f52832b",
      "f4be1d7d6eee4d66a2f84194390e98d0",
      "0ccb17bb94374e78bcb9d2e0f99cb790",
      "bb933c120e7147598384dc608cf94db8",
      "86fc4822300d48779706451b08b8003e",
      "00eaef35630c4e1b82c8d7cca3292763",
      "ed5b11c9948747d1ae388b267f2115fd",
      "041068aacb954ff7b9d3bfb72ae23b8f",
      "8717941a892f49eb902ca05151a37eb5",
      "73389aca454748349eefa380e1812a4d",
      "84f3c3a8a9e44f5aa2e5bf279c99052f",
      "2228e42df5cb421280cd2800d20c4a3b",
      "0731993ef9f1402c9a7f590b0b0a93a2"
     ]
    },
    "executionInfo": {
     "elapsed": 7578,
     "status": "ok",
     "timestamp": 1688993469063,
     "user": {
      "displayName": "Arnas Gercas",
      "userId": "05721695559367193707"
     },
     "user_tz": -120
    },
    "id": "GfiHQIrXriBl",
    "outputId": "6a40bf0f-347e-4b33-e116-91469569c6dd"
   },
   "outputs": [],
   "source": [
    "import os\n",
    "import torch\n",
    "from speechbrain.pretrained import EncoderClassifier\n",
    "\n",
    "spk_model_name = \"speechbrain/spkrec-xvect-voxceleb\"\n",
    "\n",
    "device = \"cuda\" if torch.cuda.is_available() else \"cpu\"\n",
    "speaker_model = EncoderClassifier.from_hparams(\n",
    "    source=spk_model_name,\n",
    "    run_opts={\"device\": device},\n",
    "    savedir=os.path.join(\"/tmp\", spk_model_name),\n",
    ")\n",
    "\n",
    "\n",
    "def create_speaker_embedding(waveform):\n",
    "    with torch.no_grad():\n",
    "        speaker_embeddings = speaker_model.encode_batch(torch.tensor(waveform))\n",
    "        speaker_embeddings = torch.nn.functional.normalize(speaker_embeddings, dim=2)\n",
    "        speaker_embeddings = speaker_embeddings.squeeze().cpu().numpy()\n",
    "    return speaker_embeddings"
   ]
  },
  {
   "cell_type": "code",
   "execution_count": null,
   "metadata": {
    "executionInfo": {
     "elapsed": 27,
     "status": "ok",
     "timestamp": 1688993469064,
     "user": {
      "displayName": "Arnas Gercas",
      "userId": "05721695559367193707"
     },
     "user_tz": -120
    },
    "id": "mFTUPpR5tJSn"
   },
   "outputs": [],
   "source": [
    "def prepare_dataset(example):\n",
    "    audio = example[\"audio\"]\n",
    "\n",
    "    example = processor(\n",
    "        text=example[\"normalized_text\"],\n",
    "        audio_target=audio[\"array\"],\n",
    "        sampling_rate=audio[\"sampling_rate\"],\n",
    "        return_attention_mask=False,\n",
    "    )\n",
    "\n",
    "    # strip off the batch dimension\n",
    "    example[\"labels\"] = example[\"labels\"][0]\n",
    "\n",
    "    # use SpeechBrain to obtain x-vector\n",
    "    example[\"speaker_embeddings\"] = create_speaker_embedding(audio[\"array\"])\n",
    "\n",
    "    return example"
   ]
  },
  {
   "cell_type": "code",
   "execution_count": null,
   "metadata": {
    "colab": {
     "base_uri": "https://localhost:8080/"
    },
    "executionInfo": {
     "elapsed": 10357,
     "status": "ok",
     "timestamp": 1688993479396,
     "user": {
      "displayName": "Arnas Gercas",
      "userId": "05721695559367193707"
     },
     "user_tz": -120
    },
    "id": "XJ86R_29tJYu",
    "outputId": "ed57e487-f1ad-48af-9847-38c0f91fab25"
   },
   "outputs": [],
   "source": [
    "processed_example = prepare_dataset(dataset[0])\n",
    "list(processed_example.keys())"
   ]
  },
  {
   "cell_type": "code",
   "execution_count": null,
   "metadata": {
    "colab": {
     "base_uri": "https://localhost:8080/"
    },
    "executionInfo": {
     "elapsed": 28,
     "status": "ok",
     "timestamp": 1688993479397,
     "user": {
      "displayName": "Arnas Gercas",
      "userId": "05721695559367193707"
     },
     "user_tz": -120
    },
    "id": "xQlo2zPLtJe9",
    "outputId": "d68962c8-0703-4c92-d4d3-23403f8f269f"
   },
   "outputs": [],
   "source": [
    "processed_example[\"speaker_embeddings\"].shape"
   ]
  },
  {
   "cell_type": "code",
   "execution_count": null,
   "metadata": {
    "colab": {
     "base_uri": "https://localhost:8080/",
     "height": 180
    },
    "executionInfo": {
     "elapsed": 739,
     "status": "ok",
     "timestamp": 1688993480117,
     "user": {
      "displayName": "Arnas Gercas",
      "userId": "05721695559367193707"
     },
     "user_tz": -120
    },
    "id": "0MvY0KOCtJlj",
    "outputId": "5a22a8dd-fdab-4bb3-c0f8-89230c68765c"
   },
   "outputs": [],
   "source": [
    "import matplotlib.pyplot as plt\n",
    "\n",
    "plt.figure()\n",
    "plt.imshow(processed_example[\"labels\"].T)\n",
    "plt.show()"
   ]
  },
  {
   "cell_type": "code",
   "execution_count": null,
   "metadata": {
    "colab": {
     "base_uri": "https://localhost:8080/",
     "height": 54,
     "referenced_widgets": [
      "034f7d332e9f4a76939c9d3d94bba75f",
      "ca866362f345481d8da80ed90018eab9",
      "bb22d29e6d474d8d856bc5f32fe080a8",
      "acbaf541512c40759b1e69f363618e27",
      "f3400e4b0df04e4bbd6965053b07f74e",
      "abf1739a7b4c456e9dd1ecb4f8b66fff",
      "88de3aa9709343ab908d6c587e86095d",
      "afac1f7622f84174826ff9c3a5181a0e",
      "a99a53b797ba459a820e6ac82144cad5",
      "bd02fb66758f4ea89c649287646d5b68",
      "2814c89dfcd141dd90481a6087002905"
     ]
    },
    "executionInfo": {
     "elapsed": 449017,
     "status": "ok",
     "timestamp": 1688993929128,
     "user": {
      "displayName": "Arnas Gercas",
      "userId": "05721695559367193707"
     },
     "user_tz": -120
    },
    "id": "0eYY_rXcriI3",
    "outputId": "455f80f6-44b8-4d01-d55d-a63cec985214"
   },
   "outputs": [],
   "source": [
    "dataset = dataset.map(prepare_dataset, remove_columns=dataset.column_names)"
   ]
  },
  {
   "cell_type": "code",
   "execution_count": null,
   "metadata": {
    "colab": {
     "base_uri": "https://localhost:8080/",
     "height": 34,
     "referenced_widgets": [
      "b94f48aee02b418bb078a7240527e418",
      "b64fdd84f69a4a6a92d27fac9312b78b",
      "c325cde695994062a63d7b1f6a02e8b5",
      "ba1c616aeb424681bd92efb0198a560c",
      "e87d1397696942a4bab8ccc5b95eb8db",
      "63f60e17cb9e4cac9523f5deda1fb22b",
      "715490463ee641b0a11fe38c385c9552",
      "a7d3bbbc311f40febc08a3ead695ef75",
      "8f465be9bbc2430e99befe62f5b9d52a",
      "4f24a83bd78c49518ae7d30499b6f077",
      "4de8291fa9fd442797e111e36efb40b9"
     ]
    },
    "executionInfo": {
     "elapsed": 654,
     "status": "ok",
     "timestamp": 1688993929776,
     "user": {
      "displayName": "Arnas Gercas",
      "userId": "05721695559367193707"
     },
     "user_tz": -120
    },
    "id": "fOrJEgaJtmOa",
    "outputId": "a914951a-438b-47db-8e31-c08f281ccd4a"
   },
   "outputs": [],
   "source": [
    "def is_not_too_long(input_ids):\n",
    "    input_length = len(input_ids)\n",
    "    return input_length < 200\n",
    "\n",
    "\n",
    "dataset = dataset.filter(is_not_too_long, input_columns=[\"input_ids\"])\n",
    "len(dataset)"
   ]
  },
  {
   "cell_type": "code",
   "execution_count": null,
   "metadata": {
    "executionInfo": {
     "elapsed": 9,
     "status": "ok",
     "timestamp": 1688993929776,
     "user": {
      "displayName": "Arnas Gercas",
      "userId": "05721695559367193707"
     },
     "user_tz": -120
    },
    "id": "jjDSBPeftmc1"
   },
   "outputs": [],
   "source": [
    "dataset = dataset.train_test_split(test_size=0.1)"
   ]
  },
  {
   "cell_type": "code",
   "execution_count": null,
   "metadata": {
    "executionInfo": {
     "elapsed": 7,
     "status": "ok",
     "timestamp": 1688993929777,
     "user": {
      "displayName": "Arnas Gercas",
      "userId": "05721695559367193707"
     },
     "user_tz": -120
    },
    "id": "2w-NBeuPtmmx"
   },
   "outputs": [],
   "source": [
    "from dataclasses import dataclass\n",
    "from typing import Any, Dict, List, Union\n",
    "\n",
    "\n",
    "@dataclass\n",
    "class TTSDataCollatorWithPadding:\n",
    "    processor: Any\n",
    "\n",
    "    def __call__(self, features: List[Dict[str, Union[List[int], torch.Tensor]]]) -> Dict[str, torch.Tensor]:\n",
    "        input_ids = [{\"input_ids\": feature[\"input_ids\"]} for feature in features]\n",
    "        label_features = [{\"input_values\": feature[\"labels\"]} for feature in features]\n",
    "        speaker_features = [feature[\"speaker_embeddings\"] for feature in features]\n",
    "\n",
    "        # collate the inputs and targets into a batch\n",
    "        batch = processor.pad(input_ids=input_ids, labels=label_features, return_tensors=\"pt\")\n",
    "\n",
    "        # replace padding with -100 to ignore loss correctly\n",
    "        batch[\"labels\"] = batch[\"labels\"].masked_fill(batch.decoder_attention_mask.unsqueeze(-1).ne(1), -100)\n",
    "\n",
    "        # not used during fine-tuning\n",
    "        del batch[\"decoder_attention_mask\"]\n",
    "\n",
    "        # round down target lengths to multiple of reduction factor\n",
    "        if model.config.reduction_factor > 1:\n",
    "            target_lengths = torch.tensor([len(feature[\"input_values\"]) for feature in label_features])\n",
    "            target_lengths = target_lengths.new(\n",
    "                [length - length % model.config.reduction_factor for length in target_lengths]\n",
    "            )\n",
    "            max_length = max(target_lengths)\n",
    "            batch[\"labels\"] = batch[\"labels\"][:, :max_length]\n",
    "\n",
    "        # also add in the speaker embeddings\n",
    "        batch[\"speaker_embeddings\"] = torch.tensor(speaker_features)\n",
    "\n",
    "        return batch"
   ]
  },
  {
   "cell_type": "code",
   "execution_count": null,
   "metadata": {
    "executionInfo": {
     "elapsed": 7,
     "status": "ok",
     "timestamp": 1688993929777,
     "user": {
      "displayName": "Arnas Gercas",
      "userId": "05721695559367193707"
     },
     "user_tz": -120
    },
    "id": "xRoP7fLstmt_"
   },
   "outputs": [],
   "source": [
    "data_collator = TTSDataCollatorWithPadding(processor=processor)"
   ]
  },
  {
   "cell_type": "code",
   "execution_count": null,
   "metadata": {
    "colab": {
     "base_uri": "https://localhost:8080/",
     "height": 81,
     "referenced_widgets": [
      "2f6f33ccd17e4c9eb09f4797bd9ba847",
      "0b6ae1c0fed048bdb8f0f57ba3537589",
      "9d5d6e5394d54de9a8bfa00aff0a09b8",
      "e407cc3300ee41b9a352af83d4c3d3a1",
      "1c57a36966914f17a63620d70c29475a",
      "a78bfe7f892548d99b25c6f72a14032e",
      "cdf75b0eb3194a918be905bca0345eec",
      "f9ffc0636395453880eec0c509d2f071",
      "de7f064af43a4971b5577bd5104608e8",
      "b9d9fdfcd3b1414f8f995a44b8733953",
      "ab9a9871438b4891a84a32e05e6d7c4f",
      "8683fb114eb041e381dae59b8f63e413",
      "0a6f3e3d47204c70a40e8ccbbfb598b6",
      "dcdfbf3e76b6412f902855dced14c7e8",
      "ed4632433c994df69a68d65b2adec2e1",
      "0c0d8913c4b44843b814a227f2b676e8",
      "ede1358fe38e4398971a65b996b8d893",
      "1989230cbab743c188613d1576fd4954",
      "413daa1152ad431584ba7a006acf3b87",
      "4cea3e3b1b6940d6b04d18cdc8b2824e",
      "5736e34f73ce407e8781c36c4ff2f31d",
      "2d2593ed85494ef6951ea3c936068e0b"
     ]
    },
    "executionInfo": {
     "elapsed": 6325,
     "status": "ok",
     "timestamp": 1688993936095,
     "user": {
      "displayName": "Arnas Gercas",
      "userId": "05721695559367193707"
     },
     "user_tz": -120
    },
    "id": "njYOb1Tbtm0N",
    "outputId": "d3885802-6f3d-4ada-e348-1e4356c7d958"
   },
   "outputs": [],
   "source": [
    "from transformers import SpeechT5ForTextToSpeech\n",
    "\n",
    "model = SpeechT5ForTextToSpeech.from_pretrained(checkpoint)"
   ]
  },
  {
   "cell_type": "code",
   "execution_count": null,
   "metadata": {
    "executionInfo": {
     "elapsed": 28,
     "status": "ok",
     "timestamp": 1688993936096,
     "user": {
      "displayName": "Arnas Gercas",
      "userId": "05721695559367193707"
     },
     "user_tz": -120
    },
    "id": "__YA-R6ctm_o"
   },
   "outputs": [],
   "source": [
    "from functools import partial\n",
    "\n",
    "# disable cache during training since it's incompatible with gradient checkpointing\n",
    "model.config.use_cache = False\n",
    "\n",
    "# set language and task for generation and re-enable cache\n",
    "model.generate = partial(model.generate, use_cache=True)"
   ]
  },
  {
   "cell_type": "code",
   "execution_count": null,
   "metadata": {
    "executionInfo": {
     "elapsed": 26,
     "status": "ok",
     "timestamp": 1688993936096,
     "user": {
      "displayName": "Arnas Gercas",
      "userId": "05721695559367193707"
     },
     "user_tz": -120
    },
    "id": "AoW2nsflvJCK"
   },
   "outputs": [],
   "source": [
    "from transformers import Seq2SeqTrainingArguments\n",
    "\n",
    "training_args = Seq2SeqTrainingArguments(\n",
    "    output_dir=\"speecht5_finetuned_voxpopuli_nl\",  # change to a repo name of your choice\n",
    "    per_device_train_batch_size=4,\n",
    "    gradient_accumulation_steps=8,\n",
    "    learning_rate=1e-5,\n",
    "    warmup_steps=500,\n",
    "    max_steps=4000,\n",
    "    gradient_checkpointing=True,\n",
    "    fp16=True,\n",
    "    evaluation_strategy=\"steps\",\n",
    "    per_device_eval_batch_size=2,\n",
    "    save_steps=1000,\n",
    "    eval_steps=1000,\n",
    "    logging_steps=25,\n",
    "    report_to=[\"tensorboard\"],\n",
    "    load_best_model_at_end=True,\n",
    "    greater_is_better=False,\n",
    "    label_names=[\"labels\"],\n",
    "    push_to_hub=True,\n",
    ")"
   ]
  },
  {
   "cell_type": "code",
   "execution_count": null,
   "metadata": {
    "colab": {
     "base_uri": "https://localhost:8080/",
     "height": 244,
     "referenced_widgets": [
      "f6f0c50c3a3148c29cdd0f9168fd0c6d",
      "1173eae61bf34ec4968c00dba34da831",
      "c98b563a1ff24876a3b2e2f3498d26ee",
      "4112128f1df44a9f9a8d8f01523843b0",
      "9ab48ba3d5c5415889336a780e3fc4b9",
      "42083180868a454798c3742f00067cf4",
      "6200d8c6d2ff40529427529eba96c1e1",
      "847a962eccd44f019a9fbe35d1db3c58",
      "b49570708e974f00b10b958be61bf1c7",
      "d321ab7469484b0390a2b321731c0248",
      "17429fdda9c14f699877e8aa4c64fe53",
      "107da7fc8a454296a4262bf8ecb32ce7",
      "bcb783c8339d44d1bf0b6493fec7ecaa",
      "5f5e95ba88174d109b7e85b7eb0af9f8",
      "044134084f14497e93d90104ab101ec5",
      "4e25679b9b5245b7b1b9db1e34186f90",
      "7f945a4579164cf692a7ee67941aba7a",
      "f4762d93475f49578570e69974699834",
      "40532b0b39d4446986554079baa73101",
      "881be3c48a124cad8a47e73baf33ba48",
      "06d1b8b47b97401fb16fb60a8162db86",
      "18466428b5714ebc979ed109d2365acd",
      "90eb43858d464ed295b566ec3b9e8811",
      "96c79740d6c740d883a24585ba083fcf",
      "dda99bf988984d81989e4e8b6be10ebf",
      "32af2042286c4246a9da3b63e7f2e607",
      "d96435bfa7b349e4bdb932449a01c207",
      "89df4f2c9858406fa9ecafb0f0878b15",
      "51e665e01d784511802594a693727637",
      "25136d107d634200aef83302a638ee06",
      "db539213bb3f4565b77ec741d1ab7179",
      "e15b9e4f70614873b13f9f44055bf894",
      "a3351c0b4a8247cf8b2317991f55e7ae",
      "375e0aa058d74c30a56752aba5eec9e3",
      "c640b50d6aaf45e3a9cbe164106cc32b",
      "d56057b98eac446ca1c6d747defc21cb",
      "2c65312a491141eba5d54c50b5adbaf5",
      "3ad5339ef107414287d721532d144ccd",
      "e2465725e4084904b2a5270c64745602",
      "ef533c7a8c0f43c1904555e28e1f0a52",
      "f72a8ea5b35148649d50a289705a094b",
      "14c68fc8534744de911b78b6003aabbd",
      "1bb06818f7bc4acc9765e6e1ab2e620b",
      "e180a973118745618f8f96c815e09090",
      "201d6b1bc7f449d691a7fe046710e460",
      "04b917cd3a8447909adb9dcd3d5cf3d7",
      "db34f06860544e388cb26d3c492f5762",
      "dafbe4854a0f44fe8af990d744890654",
      "41f6f1d146494adc8a68a4b26cad3ebe",
      "4522a5afb5d5444cbd98c437a5530907",
      "c13997e50d4448a296eded0b5b0ba863",
      "4ec27a447e9d4b348a1d69128821de6d",
      "3a9b929f180643dbb57eae68371f0952",
      "4743e0a27fa04208926ee60c389538cf",
      "80a67f0d29b840f384b678b367919a1a",
      "97ef60d34f22435d9d2ba9fc45c58694",
      "6cf3fdf1de0f400a9f4fe0680c50516b",
      "c6031d3605fa4943bc46eb9b0750af56",
      "350b1eb5315d4ea1b394826e4b829b23",
      "8e34bb9d70ad439987b7b71dd13014c7",
      "0f96094cdfd7418ca168b3588f1104a8",
      "68bd12f1617d4f2689b1ad48ca8c2860",
      "13e065ec777f4413b3e5049608ec0f60",
      "cab3ace6a6954eca9cf2034157ae8f25",
      "3e387130d92d420e873a986ac7124355",
      "0fab0467df9a429bb7df6337da929db7"
     ]
    },
    "executionInfo": {
     "elapsed": 147683,
     "status": "ok",
     "timestamp": 1688994083754,
     "user": {
      "displayName": "Arnas Gercas",
      "userId": "05721695559367193707"
     },
     "user_tz": -120
    },
    "id": "A6mo1ntfvJGu",
    "outputId": "971544e8-b6a4-459f-a202-9c3ed7851ef8"
   },
   "outputs": [],
   "source": [
    "from transformers import Seq2SeqTrainer\n",
    "\n",
    "trainer = Seq2SeqTrainer(\n",
    "    args=training_args,\n",
    "    model=model,\n",
    "    train_dataset=dataset[\"train\"],\n",
    "    eval_dataset=dataset[\"test\"],\n",
    "    data_collator=data_collator,\n",
    "    tokenizer=processor,\n",
    ")"
   ]
  },
  {
   "cell_type": "code",
   "execution_count": null,
   "metadata": {
    "colab": {
     "base_uri": "https://localhost:8080/",
     "height": 290
    },
    "executionInfo": {
     "elapsed": 8727680,
     "status": "ok",
     "timestamp": 1689002811651,
     "user": {
      "displayName": "Arnas Gercas",
      "userId": "05721695559367193707"
     },
     "user_tz": -120
    },
    "id": "Nu_O5obNyiuo",
    "outputId": "11e3ca7f-9f59-4830-94ed-b4f5ad201b81"
   },
   "outputs": [],
   "source": [
    "trainer.train()"
   ]
  },
  {
   "cell_type": "code",
   "execution_count": null,
   "metadata": {
    "executionInfo": {
     "elapsed": 24,
     "status": "ok",
     "timestamp": 1689002811652,
     "user": {
      "displayName": "Arnas Gercas",
      "userId": "05721695559367193707"
     },
     "user_tz": -120
    },
    "id": "zgvXTz9UvJNp"
   },
   "outputs": [],
   "source": [
    "kwargs = {\n",
    "    \"dataset_tags\": \"facebook/voxpopuli\",\n",
    "    \"finetuned_from\": \"microsoft/speecht5_tts\",\n",
    "    \"tasks\": \"text-to-speech\",\n",
    "    \"model_name\": \"speecht5_finetuned_voxpopuli_nl\",\n",
    "}"
   ]
  },
  {
   "cell_type": "code",
   "execution_count": null,
   "metadata": {
    "colab": {
     "base_uri": "https://localhost:8080/",
     "height": 405,
     "referenced_widgets": [
      "de9fd005f0f141219f7c99de1d156778",
      "913e29c841974abc94ee1995d7c706c6",
      "2ab29564b45e4dcda5e77053944322e8",
      "cbb799fd0e7944588e0b81622531ddb0",
      "5f7a4ced3bf14ec2be5fd0b8395f4bad",
      "eeabb47ce6744a4e90dbe2fe2264bb37",
      "109c7546e58149a09821f3357d53f4c4",
      "a8b3d020ea444e6980a5b5b2f7587d42",
      "62f8d45deb10415da5496a8b2d5f696e",
      "362fcc041cd24339b03a1ab5fbc29e0a",
      "ad5f79c76a0c415f9e186eef17cd7ed3",
      "4009f175874d4c1982bc2cfc4dc90c8f",
      "245f2fb7d048486dbeb639b04a107fb9",
      "1a8616761f984779808eeb71f8d08560",
      "4b62e483f8f344098e4ef85fe4a8e3c9",
      "95712c3a4d2f4155b1cb36f8759a9ca4",
      "7ace93df126245c2855e24b9a33153bf",
      "7adf49285b3d40d39b2ef479f2253541",
      "79d94963cfbe4288997f7d580c9c60ca",
      "284dde0bfc3d4ab3819c41d676f23f9e",
      "721b2fa47a8b48d08570540322590a80",
      "ace9b9cad00e4979a86bc8c277e260b2"
     ]
    },
    "executionInfo": {
     "elapsed": 34891,
     "status": "ok",
     "timestamp": 1689002846539,
     "user": {
      "displayName": "Arnas Gercas",
      "userId": "05721695559367193707"
     },
     "user_tz": -120
    },
    "id": "y8bZRRAMvJlk",
    "outputId": "badfab13-4300-43f5-ae9b-56e8ca2246c1"
   },
   "outputs": [],
   "source": [
    "trainer.push_to_hub(**kwargs)"
   ]
  },
  {
   "cell_type": "code",
   "execution_count": null,
   "metadata": {
    "executionInfo": {
     "elapsed": 20,
     "status": "ok",
     "timestamp": 1689002846540,
     "user": {
      "displayName": "Arnas Gercas",
      "userId": "05721695559367193707"
     },
     "user_tz": -120
    },
    "id": "CcpzIz3lvJvc"
   },
   "outputs": [],
   "source": []
  },
  {
   "cell_type": "code",
   "execution_count": null,
   "metadata": {
    "executionInfo": {
     "elapsed": 19,
     "status": "ok",
     "timestamp": 1689002846540,
     "user": {
      "displayName": "Arnas Gercas",
      "userId": "05721695559367193707"
     },
     "user_tz": -120
    },
    "id": "JVdYzrCZvJ3a"
   },
   "outputs": [],
   "source": [
    "# Test It"
   ]
  },
  {
   "cell_type": "code",
   "execution_count": null,
   "metadata": {
    "colab": {
     "base_uri": "https://localhost:8080/",
     "height": 81,
     "referenced_widgets": [
      "8c7daf87dc214fb3ae2ef03aaf986659",
      "da75965aa29e45e6b66f0771453f3af3",
      "85b4c4b8665f4344a2b9b7efe3ae5ce9",
      "9fd1a25756614662b01fbc7fd5dd4a63",
      "8cc71f551df14066a04fe5db317ad0a1",
      "e5e2f67401ec41078d0cd30422cdf53d",
      "3951895e832440e1a7046e61b88b81eb",
      "5ff295bf86c044cf8c77778f67c39731",
      "b534a7c13ebf4007896f2394f912c471",
      "cca70f367ba241268cd9a18cef590422",
      "ca61ea8302564d76b8f73f5156ff0cc7",
      "86e08134d8b14fc0be6fa48a5d5268c8",
      "19a165e8e1a04cd08d90b32fa087aa80",
      "5df033a9b507499c925ae50647d8c6ac",
      "7d4bedca49cd499c86582754ba9f3f8f",
      "b7612c86f4954e608b49e7e805ad3207",
      "700097eeb16449cc97e0c06ef55f5af4",
      "961449f2c82e4094961a0985179b8fa2",
      "3d5404c79e8d43b5894b877fc42dd5ec",
      "a8a44f8483184546964ae36c060281c5",
      "0456bd5590ff4968a9b03e24e231ae72",
      "be357e4696cf436ea0705846d13b9aae"
     ]
    },
    "executionInfo": {
     "elapsed": 16713,
     "status": "ok",
     "timestamp": 1689002863234,
     "user": {
      "displayName": "Arnas Gercas",
      "userId": "05721695559367193707"
     },
     "user_tz": -120
    },
    "id": "z2r9UXUevJ_b",
    "outputId": "f3776bde-7969-4d4d-fb34-f25dd3f20745"
   },
   "outputs": [],
   "source": [
    "model = SpeechT5ForTextToSpeech.from_pretrained(\"agercas/speecht5_finetuned_voxpopuli_nl\")"
   ]
  },
  {
   "cell_type": "code",
   "execution_count": null,
   "metadata": {
    "executionInfo": {
     "elapsed": 22,
     "status": "ok",
     "timestamp": 1689002863234,
     "user": {
      "displayName": "Arnas Gercas",
      "userId": "05721695559367193707"
     },
     "user_tz": -120
    },
    "id": "taRHxXKHIrsr"
   },
   "outputs": [],
   "source": [
    "example = dataset[\"test\"][304]\n",
    "speaker_embeddings = torch.tensor(example[\"speaker_embeddings\"]).unsqueeze(0)"
   ]
  },
  {
   "cell_type": "code",
   "execution_count": null,
   "metadata": {
    "executionInfo": {
     "elapsed": 22,
     "status": "ok",
     "timestamp": 1689002863235,
     "user": {
      "displayName": "Arnas Gercas",
      "userId": "05721695559367193707"
     },
     "user_tz": -120
    },
    "id": "suhmK9wDIyZl"
   },
   "outputs": [],
   "source": [
    "text = \"hallo allemaal, ik praat nederlands. groetjes aan iedereen!\""
   ]
  },
  {
   "cell_type": "code",
   "execution_count": null,
   "metadata": {
    "executionInfo": {
     "elapsed": 21,
     "status": "ok",
     "timestamp": 1689002863235,
     "user": {
      "displayName": "Arnas Gercas",
      "userId": "05721695559367193707"
     },
     "user_tz": -120
    },
    "id": "UQZ7V_oBIy3X"
   },
   "outputs": [],
   "source": [
    "inputs = processor(text=text, return_tensors=\"pt\")"
   ]
  },
  {
   "cell_type": "code",
   "execution_count": null,
   "metadata": {
    "colab": {
     "base_uri": "https://localhost:8080/",
     "height": 81,
     "referenced_widgets": [
      "8f107271a0b3453a91c49fd30faeb80a",
      "9aa33e8e5ac7442a934d8325c62c1381",
      "bbed1d3880fe4645a4b2d7f7a06887f4",
      "6d13169612234222ad7e9d5480fbeea3",
      "df53786d6cec467e876b45a34ff8bf89",
      "dad92506552944df85560deb8e4e4bf7",
      "92d5683c1e5e4897aa1d10f33f0ab4e3",
      "cb1035ca64374780bbbf63c5bdf538a2",
      "952d74aa50b541ec96dac0086376fcd5",
      "59381b83acd1426aaece9364bf06cb9c",
      "b93e82b92ae6477fab12ee89ee66759e",
      "9adf437b62834627ac6c1ecd0a81d17a",
      "4e939829a66e414db64ca5a02d3edbc9",
      "826da9402652470c8197b327bea03e3a",
      "eefa8d4a9b694e9686a42d734d5aea79",
      "869b70d17a1c44a3b2243c4fbc1ae1e6",
      "3d938378ae7b49178d9881404de9af49",
      "e75498b4b1a948f3af5f9bb973508a44",
      "3137439544ca4e17a310410856cb6895",
      "374abb78c2ff44189ba8677737c27bee",
      "bd718dab88224ebc83ace9e4749ef00d",
      "1df76f710f1a4523a04a1297d00d9110"
     ]
    },
    "executionInfo": {
     "elapsed": 7451,
     "status": "ok",
     "timestamp": 1689002870665,
     "user": {
      "displayName": "Arnas Gercas",
      "userId": "05721695559367193707"
     },
     "user_tz": -120
    },
    "id": "E8MtZFIDI-d-",
    "outputId": "ade60be4-138f-47f5-d931-50132cc574ac"
   },
   "outputs": [],
   "source": [
    "from transformers import SpeechT5HifiGan\n",
    "\n",
    "vocoder = SpeechT5HifiGan.from_pretrained(\"microsoft/speecht5_hifigan\")\n",
    "speech = model.generate_speech(inputs[\"input_ids\"], speaker_embeddings, vocoder=vocoder)"
   ]
  },
  {
   "cell_type": "code",
   "execution_count": null,
   "metadata": {
    "colab": {
     "base_uri": "https://localhost:8080/",
     "height": 75
    },
    "executionInfo": {
     "elapsed": 930,
     "status": "ok",
     "timestamp": 1689002871569,
     "user": {
      "displayName": "Arnas Gercas",
      "userId": "05721695559367193707"
     },
     "user_tz": -120
    },
    "id": "iCj33Bl-I-jQ",
    "outputId": "0f9487fc-a77f-403f-97c1-75562a9e31e9"
   },
   "outputs": [],
   "source": [
    "from IPython.display import Audio\n",
    "\n",
    "Audio(speech.numpy(), rate=16000)"
   ]
  },
  {
   "cell_type": "code",
   "execution_count": null,
   "metadata": {
    "executionInfo": {
     "elapsed": 8,
     "status": "ok",
     "timestamp": 1689002871570,
     "user": {
      "displayName": "Arnas Gercas",
      "userId": "05721695559367193707"
     },
     "user_tz": -120
    },
    "id": "bRrYxOrUI-p6"
   },
   "outputs": [],
   "source": []
  },
  {
   "cell_type": "code",
   "execution_count": null,
   "metadata": {
    "executionInfo": {
     "elapsed": 7,
     "status": "ok",
     "timestamp": 1689002871570,
     "user": {
      "displayName": "Arnas Gercas",
      "userId": "05721695559367193707"
     },
     "user_tz": -120
    },
    "id": "KGdPDgZqI-v9"
   },
   "outputs": [],
   "source": []
  }
 ],
 "metadata": {
  "accelerator": "GPU",
  "colab": {
   "authorship_tag": "ABX9TyNVWpsxgVAr3KutLasXw98X",
   "gpuType": "T4",
   "provenance": []
  },
  "kernelspec": {
   "display_name": "Python 3",
   "name": "python3"
  },
  "language_info": {
   "name": "python"
  }
 },
 "nbformat": 4,
 "nbformat_minor": 0
}
