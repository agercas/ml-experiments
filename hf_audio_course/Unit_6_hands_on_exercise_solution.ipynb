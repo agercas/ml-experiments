{
 "cells": [
  {
   "cell_type": "code",
   "execution_count": null,
   "metadata": {
    "executionInfo": {
     "elapsed": 36522,
     "status": "ok",
     "timestamp": 1689009602485,
     "user": {
      "displayName": "Arnas Gercas",
      "userId": "05721695559367193707"
     },
     "user_tz": -120
    },
    "id": "MlidsZNcqeqx"
   },
   "outputs": [],
   "source": [
    "%%capture\n",
    "!pip install gradio transformers transformers[torch] datasets[audio] evaluate jiwer datasets soundfile speechbrain accelerate"
   ]
  },
  {
   "cell_type": "code",
   "execution_count": null,
   "metadata": {
    "colab": {
     "base_uri": "https://localhost:8080/"
    },
    "executionInfo": {
     "elapsed": 447,
     "status": "ok",
     "timestamp": 1689009602920,
     "user": {
      "displayName": "Arnas Gercas",
      "userId": "05721695559367193707"
     },
     "user_tz": -120
    },
    "id": "w9Wkh9LSqi9B",
    "outputId": "2e1b3403-2662-4ba9-d1bc-efae6b57949d"
   },
   "outputs": [],
   "source": [
    "! nvidia-smi"
   ]
  },
  {
   "cell_type": "code",
   "execution_count": null,
   "metadata": {
    "colab": {
     "base_uri": "https://localhost:8080/",
     "height": 145,
     "referenced_widgets": [
      "147c815d01bc481cb6d745682855c5a4",
      "6a66321326674cfc91a17bc9512f31b6",
      "7dc0f3c464af43aa80eece84c405da89",
      "61a90db9631a4ae99f879abc19b14594",
      "c021c6d3ee574d77bd7f62a8680da59a",
      "76df08d2381b49239eb8011d17ca7844",
      "b519fa9138c344f1beee5c6e40a30246",
      "c496fbfeb1714ef69f6b318e9f7cfde5",
      "9438aa3935994c37ab0e0aa7b9b657e6",
      "7159bb02053f48aeacb619801f91a59b",
      "2f26fa74824f49bca1fb8828b40cd38e",
      "b8ee32bd3c3d4f17a7680a6b30dd3f33",
      "55ca2fb0d378415c9e1a49e1df69088f",
      "b840f645783449fcb945def16127df1f",
      "ebd04fd5de1a45e5b1b90b8fcaa28649",
      "434c6a5fbb784954ac44b56122cd46ff",
      "e46f4b354b3d4ef3be23033e8eed8563",
      "121ae433072145f2833b8a4732b57b1b",
      "806e50ee43f14f26978a76af0c25066e",
      "9fbe55c77f884d128ac0d8099f1acc1a",
      "078528277fac4efab1cde51f20d444ab",
      "e57256f7e26146739bdbbfe3435ae6c2",
      "4c8f1901254b431fbfc8dc6029b999a9",
      "6a0f11633d844fb38fff6f1516157b08",
      "73127821df934002ac966407e441785b",
      "3f547fdddaa3498e879bf43bd6c05015",
      "168c1cb460b342fe944a9a292ce08d70",
      "71d2f35ba87746c5bcb508c3eecc2937",
      "0cd0b548ca264bb0b31fd07c839ed6e7",
      "cc3770c3351047bb83c95a2e44f17bbf",
      "bb82b783704042c196996967edc1cf1b",
      "ac8c7ccc738b4417a8926d201510a2b5"
     ]
    },
    "executionInfo": {
     "elapsed": 9,
     "status": "ok",
     "timestamp": 1689009602921,
     "user": {
      "displayName": "Arnas Gercas",
      "userId": "05721695559367193707"
     },
     "user_tz": -120
    },
    "id": "UtBX1u1-qjJH",
    "outputId": "fbb14d16-41b6-405b-a748-996694645ab1"
   },
   "outputs": [],
   "source": [
    "from huggingface_hub import notebook_login\n",
    "\n",
    "notebook_login()"
   ]
  },
  {
   "cell_type": "code",
   "execution_count": null,
   "metadata": {
    "colab": {
     "base_uri": "https://localhost:8080/"
    },
    "executionInfo": {
     "elapsed": 690,
     "status": "ok",
     "timestamp": 1689009898596,
     "user": {
      "displayName": "Arnas Gercas",
      "userId": "05721695559367193707"
     },
     "user_tz": -120
    },
    "id": "JEDkmqkxqjaK",
    "outputId": "0df62e07-14dc-471f-e603-3e61438f638a"
   },
   "outputs": [],
   "source": [
    "from datasets import load_dataset, Audio\n",
    "\n",
    "dataset = load_dataset(\"facebook/voxpopuli\", \"lt\", split=\"train\")\n",
    "len(dataset)"
   ]
  },
  {
   "cell_type": "code",
   "execution_count": null,
   "metadata": {
    "executionInfo": {
     "elapsed": 3,
     "status": "ok",
     "timestamp": 1689009898816,
     "user": {
      "displayName": "Arnas Gercas",
      "userId": "05721695559367193707"
     },
     "user_tz": -120
    },
    "id": "9jdjLuawqjlW"
   },
   "outputs": [],
   "source": [
    "dataset = dataset.cast_column(\"audio\", Audio(sampling_rate=16000))"
   ]
  },
  {
   "cell_type": "code",
   "execution_count": null,
   "metadata": {
    "colab": {
     "base_uri": "https://localhost:8080/",
     "height": 177,
     "referenced_widgets": [
      "9009515e08b44aea84f7e53569ac7400",
      "b002a5a275944de2ab756f3816ec1293",
      "f7d3d3ce797f4939b0264aa0c09d0850",
      "2c2074547abc40c48ae44b5234110b79",
      "cba840ccd4ac46f8837eaa2d3d1aad47",
      "a5f816740b694adfac5e32a81489b3d1",
      "9b5f0924f00e4bdebf09af39596159d5",
      "6665e13d2fcb41ff9304ff9a5aa1086e",
      "bce887a900974a2cbff928896eb454fe",
      "57ce7dc5820a42b1a5c10b2f776bea5b",
      "5d48f46b8a31492fbb8f1f75c590b4e2",
      "7d5dbfa01f1a491bbe831e392078e019",
      "26673a1f428f4b82b638feb0308089ce",
      "98bcc4d06fe14677a04e02187844099f",
      "623e457400fe480ea0dbac7a7698d2df",
      "b2b9677a22564e28be02b39092c778e8",
      "c982197771aa43d3b553a4841e5b7c63",
      "103b4ddf05354b47883c98484e0c26ff",
      "459b0a7a39f24f03a574cc2d2a3a88d5",
      "3e1ab7cf721f4436bdade45a5734b30d",
      "96db7883d86b4e52bc61308a8b0dd7a6",
      "95dedd4a14bf43e99c2ed42bcb811f68",
      "126e5e4963d04795ab3383acf99f7d32",
      "96f9c66ca3f14d58a7ba18921a9916a6",
      "f254d22b48194e2888e986331eeb06db",
      "56cd1017bf4447e790546ea487f64af9",
      "9431b8f097434234a66f7555605e2f22",
      "cd4d55c8c01746a49b761f8d12b97df5",
      "593c32841d504bd29e86677ca48572eb",
      "122b6f21c8d34239850babe1bdff8889",
      "fca309a1c31c477a933203a547002452",
      "cb5092170aaf4714b706e0f1127a3f67",
      "72244703c23c45f9a03ccc24fa360209",
      "7a23798599fc47e788cc4d186931d8f8",
      "b7e35a18e8d14edb8e89f31e1946cc1f",
      "1535df9e740a49c8b838f19550d8a8e7",
      "17fd3646c3ef43588b058da759c69585",
      "83426390db424ea681a780302b82b851",
      "de70b0f90295480a999c0f87c339d6ee",
      "774a66ec786e4ffba7240424ab73a148",
      "a584e3e6df5543faa910e21c6e61048f",
      "7802d918e47b4dc897fb71272eaadf91",
      "fedcabfed6d140e9855dc7b23815a2ec",
      "dd60b98388ff43caa651d519ec63806e",
      "fbc93908dbd04fa58fee5fd2d0ffc0b9",
      "23d40fd4bf504f6ab2d6bd42f5afa893",
      "6b8dc5c89b5e4b72939c496a2174292b",
      "ea0ef70beb5d4088993638d3ffb292a9",
      "e3099e9cbfa24bfc912942ae9fc34b58",
      "bbec90a9fb6e40a5a7c29fcc9e6d26c2",
      "df33aee86f1844029bfcd67290487c8b",
      "fef3b1857ed84b61bea31218aefc0e8b",
      "520e4388ad7d4512be77bfdfba3500ff",
      "d5b617e508c347b18404f737a63480f1",
      "ef41d79ca25c431e924a5ef4c60605f8"
     ]
    },
    "executionInfo": {
     "elapsed": 837,
     "status": "ok",
     "timestamp": 1689009900398,
     "user": {
      "displayName": "Arnas Gercas",
      "userId": "05721695559367193707"
     },
     "user_tz": -120
    },
    "id": "jRR30VmhqjwW",
    "outputId": "7e3e8033-e69b-4478-bd69-317281704e25"
   },
   "outputs": [],
   "source": [
    "from transformers import SpeechT5Processor\n",
    "\n",
    "checkpoint = \"microsoft/speecht5_tts\"\n",
    "processor = SpeechT5Processor.from_pretrained(checkpoint)"
   ]
  },
  {
   "cell_type": "code",
   "execution_count": null,
   "metadata": {
    "executionInfo": {
     "elapsed": 1,
     "status": "ok",
     "timestamp": 1689009900398,
     "user": {
      "displayName": "Arnas Gercas",
      "userId": "05721695559367193707"
     },
     "user_tz": -120
    },
    "id": "JgmPQebCrhEK"
   },
   "outputs": [],
   "source": [
    "tokenizer = processor.tokenizer"
   ]
  },
  {
   "cell_type": "code",
   "execution_count": null,
   "metadata": {
    "colab": {
     "base_uri": "https://localhost:8080/"
    },
    "executionInfo": {
     "elapsed": 9280,
     "status": "ok",
     "timestamp": 1689009909970,
     "user": {
      "displayName": "Arnas Gercas",
      "userId": "05721695559367193707"
     },
     "user_tz": -120
    },
    "id": "YZkkzqDHrhJd",
    "outputId": "03f481d9-9145-49ef-a702-89600508d074"
   },
   "outputs": [],
   "source": [
    "dataset[0]"
   ]
  },
  {
   "cell_type": "code",
   "execution_count": null,
   "metadata": {
    "colab": {
     "base_uri": "https://localhost:8080/",
     "height": 17,
     "referenced_widgets": [
      "86815d6b13a444edb5fe2f989fdbec94",
      "6b5553d388ec4eab85bbca5eee22c506",
      "6125f86a988a4e2e99ac028e73db83f1",
      "4230e8afb6194e31bc2c3acaa823ff83",
      "9dbe322e23454fc1b5d11a2b88b6232f",
      "721bcd8945f142d5bb11e915ec05886a",
      "b665ead43aa144e68a2a5516d813fc37",
      "a9a9657146ff4353816e11fc239c25da",
      "b266dce2936b46d49a52af86da904a9e",
      "31054f1e815d47e896c7b6c862c02631",
      "f8559b92472b4cdb8279f8c03071f22c"
     ]
    },
    "executionInfo": {
     "elapsed": 7,
     "status": "ok",
     "timestamp": 1689009909970,
     "user": {
      "displayName": "Arnas Gercas",
      "userId": "05721695559367193707"
     },
     "user_tz": -120
    },
    "id": "LycvrFawrhQm",
    "outputId": "ea211981-9420-4fa6-85dd-390b2b0fd112"
   },
   "outputs": [],
   "source": [
    "def extract_all_chars(batch):\n",
    "    all_text = \" \".join(batch[\"normalized_text\"])\n",
    "    vocab = list(set(all_text))\n",
    "    return {\"vocab\": [vocab], \"all_text\": [all_text]}\n",
    "\n",
    "\n",
    "vocabs = dataset.map(\n",
    "    extract_all_chars,\n",
    "    batched=True,\n",
    "    batch_size=-1,\n",
    "    keep_in_memory=True,\n",
    "    remove_columns=dataset.column_names,\n",
    ")\n",
    "\n",
    "dataset_vocab = set(vocabs[\"vocab\"][0])\n",
    "tokenizer_vocab = {k for k, _ in tokenizer.get_vocab().items()}"
   ]
  },
  {
   "cell_type": "code",
   "execution_count": null,
   "metadata": {
    "colab": {
     "base_uri": "https://localhost:8080/",
     "height": 17,
     "referenced_widgets": [
      "84bb659fbbf84d579845a58d70c8b120",
      "481e3b08e4974a4b87dd7038d5d98912",
      "a91f3e10aff34519a284a0128f58f2af",
      "745e1857ee1b40ac8d103b1bd03311af",
      "4e7ce158c0604733827178d30b526048",
      "6d5572ea47844209a87ff33ad6401c80",
      "68335a128d504f8b96d0a50c5ce595a8",
      "a47e262f2774498a84405ee81ce5b14a",
      "48067e4a3c3b49fcb6355b1a22f0ec68",
      "839c4002dab6484f806994f83db20822",
      "6e47e73ac0234384a5b56e619c2a858c"
     ]
    },
    "executionInfo": {
     "elapsed": 221,
     "status": "ok",
     "timestamp": 1689009910186,
     "user": {
      "displayName": "Arnas Gercas",
      "userId": "05721695559367193707"
     },
     "user_tz": -120
    },
    "id": "-odZspnArhYQ",
    "outputId": "8e36c62e-4301-478b-db10-a7ea0933ea3c"
   },
   "outputs": [],
   "source": [
    "# replacements = [\n",
    "#     (\"à\", \"a\"),\n",
    "#     (\"ç\", \"c\"),\n",
    "#     (\"è\", \"e\"),\n",
    "#     (\"ë\", \"e\"),\n",
    "#     (\"í\", \"i\"),\n",
    "#     (\"ï\", \"i\"),\n",
    "#     (\"ö\", \"o\"),\n",
    "#     (\"ü\", \"u\"),\n",
    "# ]\n",
    "\n",
    "replacements = [\n",
    "    (\"ą\", \"a\"),\n",
    "    (\"č\", \"c\"),\n",
    "    (\"ę\", \"e\"),\n",
    "    (\"ė\", \"e\"),\n",
    "    (\"į\", \"i\"),\n",
    "    (\"š\", \"s\"),\n",
    "    (\"ų\", \"u\"),\n",
    "    (\"ū\", \"u\"),\n",
    "    (\"ž\", \"z\"),\n",
    "]\n",
    "\n",
    "\n",
    "def cleanup_text(inputs):\n",
    "    for src, dst in replacements:\n",
    "        inputs[\"normalized_text\"] = inputs[\"normalized_text\"].replace(src, dst)\n",
    "    return inputs\n",
    "\n",
    "\n",
    "dataset = dataset.map(cleanup_text)"
   ]
  },
  {
   "cell_type": "code",
   "execution_count": null,
   "metadata": {
    "executionInfo": {
     "elapsed": 2,
     "status": "ok",
     "timestamp": 1689009910186,
     "user": {
      "displayName": "Arnas Gercas",
      "userId": "05721695559367193707"
     },
     "user_tz": -120
    },
    "id": "oT3KwqR0rhev"
   },
   "outputs": [],
   "source": [
    "from collections import defaultdict\n",
    "\n",
    "speaker_counts = defaultdict(int)\n",
    "\n",
    "for speaker_id in dataset[\"speaker_id\"]:\n",
    "    speaker_counts[speaker_id] += 1"
   ]
  },
  {
   "cell_type": "code",
   "execution_count": null,
   "metadata": {
    "colab": {
     "base_uri": "https://localhost:8080/",
     "height": 449
    },
    "executionInfo": {
     "elapsed": 262,
     "status": "ok",
     "timestamp": 1689009910447,
     "user": {
      "displayName": "Arnas Gercas",
      "userId": "05721695559367193707"
     },
     "user_tz": -120
    },
    "id": "QHiJJe7crhlP",
    "outputId": "1fb9092e-af2a-4e29-e031-ecbff2ccfa51"
   },
   "outputs": [],
   "source": [
    "import matplotlib.pyplot as plt\n",
    "\n",
    "plt.figure()\n",
    "plt.hist(speaker_counts.values(), bins=20)\n",
    "plt.ylabel(\"Speakers\")\n",
    "plt.xlabel(\"Examples\")\n",
    "plt.show()"
   ]
  },
  {
   "cell_type": "code",
   "execution_count": null,
   "metadata": {
    "colab": {
     "base_uri": "https://localhost:8080/",
     "height": 17,
     "referenced_widgets": [
      "a9724898c7e54fa986b442e606a8b34e",
      "bcc8ae95866b4af69fa0c9d8d7f6f7a3",
      "c7cf53dee23c4382bb9855b3b4ed981f",
      "77a9f339f5ee444cb16f9142019e3c1c",
      "5d0761f77d1c4da19d1546322685b1da",
      "4bfc6cba9f9f4d73b772bbe7311276d3",
      "a496627214df4e5386a0b3b7f2958e07",
      "d61d621af3cf4118842d2b57d9be3e74",
      "a2ed311e44674f46ba190d4d491c5b97",
      "a9a63ffddc684bf083d9a412c288493b",
      "70240818daae467cbc3f9c3fb09bbbe3"
     ]
    },
    "executionInfo": {
     "elapsed": 7,
     "status": "ok",
     "timestamp": 1689009910447,
     "user": {
      "displayName": "Arnas Gercas",
      "userId": "05721695559367193707"
     },
     "user_tz": -120
    },
    "id": "NixpxFpnrhsS",
    "outputId": "0b678a9c-21ec-4e75-8418-cf946f56e2e2"
   },
   "outputs": [],
   "source": [
    "def select_speaker(speaker_id):\n",
    "    return True\n",
    "    # return 100 <= speaker_counts[speaker_id] <= 400\n",
    "\n",
    "\n",
    "dataset = dataset.filter(select_speaker, input_columns=[\"speaker_id\"])"
   ]
  },
  {
   "cell_type": "code",
   "execution_count": null,
   "metadata": {
    "colab": {
     "base_uri": "https://localhost:8080/"
    },
    "executionInfo": {
     "elapsed": 6,
     "status": "ok",
     "timestamp": 1689009910447,
     "user": {
      "displayName": "Arnas Gercas",
      "userId": "05721695559367193707"
     },
     "user_tz": -120
    },
    "id": "4HJIMYBFrhy8",
    "outputId": "517d50b9-a343-46e7-e041-577777cac8ed"
   },
   "outputs": [],
   "source": [
    "len(set(dataset[\"speaker_id\"]))"
   ]
  },
  {
   "cell_type": "code",
   "execution_count": null,
   "metadata": {
    "colab": {
     "base_uri": "https://localhost:8080/"
    },
    "executionInfo": {
     "elapsed": 5,
     "status": "ok",
     "timestamp": 1689009910448,
     "user": {
      "displayName": "Arnas Gercas",
      "userId": "05721695559367193707"
     },
     "user_tz": -120
    },
    "id": "7BnlVj9vrh5l",
    "outputId": "9edebef6-0ae3-4f45-fcdd-29c616455dfe"
   },
   "outputs": [],
   "source": [
    "len(dataset)"
   ]
  },
  {
   "cell_type": "code",
   "execution_count": null,
   "metadata": {
    "colab": {
     "base_uri": "https://localhost:8080/",
     "height": 177,
     "referenced_widgets": [
      "600c25cc3a5d4e2ea08fd4422fc3c144",
      "6504ff8e98554ed289dbf383b3c0b16b",
      "8b33b419fd0142b9b41c910856b3f6fe",
      "cbe7bfd53d084d6691eb18a79587f2e4",
      "b8ab936733bb4ed48bcf3cbbadc53dac",
      "70a886081dc04277a8f7762c123266cc",
      "7d2eaedb736c49128825b4fc8faacff0",
      "035aabbd3b164aa3bbb802b126627998",
      "be738489b8404f05aae290c66c942aba",
      "290a922182d045cd9558b1ff40af0ee9",
      "593b37da927741a8a12e2dffc103963f",
      "948bc66da5684dce8d23bc5979ee46d9",
      "95b9c158028b479d9e854b7508d5f831",
      "5aea59f9e5ce46898a9eaf902365b635",
      "fddef0fe79074b8a9e183f8374a713e7",
      "fdd41766183e4312be652550caff6d1a",
      "18725f6fea954360958ff41a50ea9c51",
      "e2fef432fff94369bcdf47ba6a270fa8",
      "b44a587f74b24062b31ff9f688663707",
      "90ddd5b2bb584e78b35e5497908aac1e",
      "cf3f009a52f1496eade9a5975d3a8c7e",
      "12311ab55c8e4158a37e40258531c780",
      "79ff24c590e942809b5dc61df76a9b28",
      "04b8162396b8423ab8811796536bf512",
      "19175e5b96154d9d8cc3c884ea45f7f3",
      "3d8f1ca841c143ce876e881267f22fdc",
      "69f1e53b495d4e919cb304c9962c243a",
      "40da6ae918934b1c9162914a29541c1b",
      "ad35b61dcce44ced803015ae44452bbd",
      "1df86fc197bf49f180aa8459d303e331",
      "67642fa9fe7b4d5c82b82be3430152f9",
      "d5c926c3de5c470cb2e212b4cf2e513c",
      "ce361a431b4249f0ae61582c0a435ef1",
      "aea97264cf29443a884ff3e27b711c68",
      "a356bb0537cf41628cafb70e5b1c79b3",
      "3b03da43019f4adaa46b32529811cc60",
      "0f03c740b8dd436daf460bd311c301c8",
      "9e80056c249a46809b97bf73a0b28a86",
      "0b2db8240e2c49ff8fb2d7a4b01cba71",
      "238b410bd21144728291e1e972e0c194",
      "b46cfe007a3f4777bc7b982848658fac",
      "cfa0baa4569e4449ae0061fabd4a3354",
      "bb6ff3e1401747b68921ad471b6a7c40",
      "14fec0052f6146df969787539095ff9f",
      "248a964f28cb485898881489ef95e1b8",
      "0a5a3687f54d402b8825e52bdf1f1153",
      "6c10471be71d48e5af6d7e178da51c83",
      "d42feff9be8f4579bc4321af7b4e04ff",
      "72de278b84f946179368e817695fafe4",
      "bed70efba48d4e07b076b6f76080e88e",
      "c8d01ffdb6544a8095752bc9f509da71",
      "4ec26a7988b544cea68d0828bc045fc4",
      "4a4d1be617744f9ab6a9f6c3828052a5",
      "3b9c15e1b67e424d8d9315f44d5114d5",
      "daa4ff2196bd46e6bec00ed190a8b210"
     ]
    },
    "executionInfo": {
     "elapsed": 6688,
     "status": "ok",
     "timestamp": 1689009920194,
     "user": {
      "displayName": "Arnas Gercas",
      "userId": "05721695559367193707"
     },
     "user_tz": -120
    },
    "id": "GfiHQIrXriBl",
    "outputId": "92e3f772-8122-42fb-f80d-af073b75c1b9"
   },
   "outputs": [],
   "source": [
    "import os\n",
    "import torch\n",
    "from speechbrain.pretrained import EncoderClassifier\n",
    "\n",
    "spk_model_name = \"speechbrain/spkrec-xvect-voxceleb\"\n",
    "\n",
    "device = \"cuda\" if torch.cuda.is_available() else \"cpu\"\n",
    "speaker_model = EncoderClassifier.from_hparams(\n",
    "    source=spk_model_name,\n",
    "    run_opts={\"device\": device},\n",
    "    savedir=os.path.join(\"/tmp\", spk_model_name),\n",
    ")\n",
    "\n",
    "\n",
    "def create_speaker_embedding(waveform):\n",
    "    with torch.no_grad():\n",
    "        speaker_embeddings = speaker_model.encode_batch(torch.tensor(waveform))\n",
    "        speaker_embeddings = torch.nn.functional.normalize(speaker_embeddings, dim=2)\n",
    "        speaker_embeddings = speaker_embeddings.squeeze().cpu().numpy()\n",
    "    return speaker_embeddings"
   ]
  },
  {
   "cell_type": "code",
   "execution_count": null,
   "metadata": {
    "executionInfo": {
     "elapsed": 2,
     "status": "ok",
     "timestamp": 1689009920194,
     "user": {
      "displayName": "Arnas Gercas",
      "userId": "05721695559367193707"
     },
     "user_tz": -120
    },
    "id": "mFTUPpR5tJSn"
   },
   "outputs": [],
   "source": [
    "def prepare_dataset(example):\n",
    "    audio = example[\"audio\"]\n",
    "\n",
    "    example = processor(\n",
    "        text=example[\"normalized_text\"],\n",
    "        audio_target=audio[\"array\"],\n",
    "        sampling_rate=audio[\"sampling_rate\"],\n",
    "        return_attention_mask=False,\n",
    "    )\n",
    "\n",
    "    # strip off the batch dimension\n",
    "    example[\"labels\"] = example[\"labels\"][0]\n",
    "\n",
    "    # use SpeechBrain to obtain x-vector\n",
    "    example[\"speaker_embeddings\"] = create_speaker_embedding(audio[\"array\"])\n",
    "\n",
    "    return example"
   ]
  },
  {
   "cell_type": "code",
   "execution_count": null,
   "metadata": {
    "colab": {
     "base_uri": "https://localhost:8080/"
    },
    "executionInfo": {
     "elapsed": 6423,
     "status": "ok",
     "timestamp": 1689009926615,
     "user": {
      "displayName": "Arnas Gercas",
      "userId": "05721695559367193707"
     },
     "user_tz": -120
    },
    "id": "XJ86R_29tJYu",
    "outputId": "e6e085c4-197a-41d4-dfee-1e96a4d2ac09"
   },
   "outputs": [],
   "source": [
    "processed_example = prepare_dataset(dataset[0])\n",
    "list(processed_example.keys())"
   ]
  },
  {
   "cell_type": "code",
   "execution_count": null,
   "metadata": {
    "colab": {
     "base_uri": "https://localhost:8080/"
    },
    "executionInfo": {
     "elapsed": 4,
     "status": "ok",
     "timestamp": 1689009926615,
     "user": {
      "displayName": "Arnas Gercas",
      "userId": "05721695559367193707"
     },
     "user_tz": -120
    },
    "id": "xQlo2zPLtJe9",
    "outputId": "1bfda48b-798a-480c-b777-4f4e8b6a1887"
   },
   "outputs": [],
   "source": [
    "processed_example[\"speaker_embeddings\"].shape"
   ]
  },
  {
   "cell_type": "code",
   "execution_count": null,
   "metadata": {
    "colab": {
     "base_uri": "https://localhost:8080/",
     "height": 104
    },
    "executionInfo": {
     "elapsed": 4,
     "status": "ok",
     "timestamp": 1689009926616,
     "user": {
      "displayName": "Arnas Gercas",
      "userId": "05721695559367193707"
     },
     "user_tz": -120
    },
    "id": "0MvY0KOCtJlj",
    "outputId": "4f2a32d5-8d19-44de-9e15-ba10631f8a78"
   },
   "outputs": [],
   "source": [
    "import matplotlib.pyplot as plt\n",
    "\n",
    "plt.figure()\n",
    "plt.imshow(processed_example[\"labels\"].T)\n",
    "plt.show()"
   ]
  },
  {
   "cell_type": "code",
   "execution_count": null,
   "metadata": {
    "colab": {
     "base_uri": "https://localhost:8080/",
     "height": 17,
     "referenced_widgets": [
      "d0fb7236320543a081390a00ba424b72",
      "d36a3d468ddf45308a3e7c9dcedb5776",
      "642f358a011542baa4e288ec397494f9",
      "560051b7607f4d0d924c515b8eeaeaf6",
      "5f412612906f40e391197e0b4e8880f4",
      "3e7ab4ccacc84065bd4563c675a5ff57",
      "ec3ff2df889d48fab74d7bab2d2a48c8",
      "b17fd39af25941dbac110d40349fdb03",
      "ff782ac1cf714e409efa480023dda74b",
      "7c289070a49e4c2697d636b82bd953e3",
      "953b2eba8bfe4137b971cc155788dfeb"
     ]
    },
    "executionInfo": {
     "elapsed": 31312,
     "status": "ok",
     "timestamp": 1689009957925,
     "user": {
      "displayName": "Arnas Gercas",
      "userId": "05721695559367193707"
     },
     "user_tz": -120
    },
    "id": "0eYY_rXcriI3",
    "outputId": "7a8cd59d-0661-453a-f5c6-fe66d23f1cf8"
   },
   "outputs": [],
   "source": [
    "dataset = dataset.map(prepare_dataset, remove_columns=dataset.column_names)"
   ]
  },
  {
   "cell_type": "code",
   "execution_count": null,
   "metadata": {
    "colab": {
     "base_uri": "https://localhost:8080/",
     "height": 35,
     "referenced_widgets": [
      "c571695788ee477a97ab513998b4507b",
      "e772340b28964120a6cc4f560d0a4e3a",
      "02e69f85b9774f87bb8849c56a07f98d",
      "d57e21caa51a408e953648d718b6c155",
      "e9de587d5c89490092a3f472f985071c",
      "415b5d9027c242ecb3976a527f19c0da",
      "800c04e994f546fba2c7c779f4759fd9",
      "8db42681d53d407cad6460ea171324ae",
      "7dafdb3f3bf84f3b83241e4a611c1c80",
      "0bdf9178902a4f3caedca521a9e4c777",
      "3424bc79fff143acafff51a7f661a429"
     ]
    },
    "executionInfo": {
     "elapsed": 15,
     "status": "ok",
     "timestamp": 1689009957926,
     "user": {
      "displayName": "Arnas Gercas",
      "userId": "05721695559367193707"
     },
     "user_tz": -120
    },
    "id": "fOrJEgaJtmOa",
    "outputId": "a8651a43-8606-477a-f256-30e68bdb968e"
   },
   "outputs": [],
   "source": [
    "def is_not_too_long(input_ids):\n",
    "    input_length = len(input_ids)\n",
    "    return input_length < 200\n",
    "\n",
    "\n",
    "dataset = dataset.filter(is_not_too_long, input_columns=[\"input_ids\"])\n",
    "len(dataset)"
   ]
  },
  {
   "cell_type": "code",
   "execution_count": null,
   "metadata": {
    "executionInfo": {
     "elapsed": 8,
     "status": "ok",
     "timestamp": 1689009957926,
     "user": {
      "displayName": "Arnas Gercas",
      "userId": "05721695559367193707"
     },
     "user_tz": -120
    },
    "id": "jjDSBPeftmc1"
   },
   "outputs": [],
   "source": [
    "dataset = dataset.train_test_split(test_size=0.1)"
   ]
  },
  {
   "cell_type": "code",
   "execution_count": null,
   "metadata": {
    "executionInfo": {
     "elapsed": 431,
     "status": "ok",
     "timestamp": 1689009958349,
     "user": {
      "displayName": "Arnas Gercas",
      "userId": "05721695559367193707"
     },
     "user_tz": -120
    },
    "id": "2w-NBeuPtmmx"
   },
   "outputs": [],
   "source": [
    "from dataclasses import dataclass\n",
    "from typing import Any, Dict, List, Union\n",
    "\n",
    "\n",
    "@dataclass\n",
    "class TTSDataCollatorWithPadding:\n",
    "    processor: Any\n",
    "\n",
    "    def __call__(self, features: List[Dict[str, Union[List[int], torch.Tensor]]]) -> Dict[str, torch.Tensor]:\n",
    "        input_ids = [{\"input_ids\": feature[\"input_ids\"]} for feature in features]\n",
    "        label_features = [{\"input_values\": feature[\"labels\"]} for feature in features]\n",
    "        speaker_features = [feature[\"speaker_embeddings\"] for feature in features]\n",
    "\n",
    "        # collate the inputs and targets into a batch\n",
    "        batch = processor.pad(input_ids=input_ids, labels=label_features, return_tensors=\"pt\")\n",
    "\n",
    "        # replace padding with -100 to ignore loss correctly\n",
    "        batch[\"labels\"] = batch[\"labels\"].masked_fill(batch.decoder_attention_mask.unsqueeze(-1).ne(1), -100)\n",
    "\n",
    "        # not used during fine-tuning\n",
    "        del batch[\"decoder_attention_mask\"]\n",
    "\n",
    "        # round down target lengths to multiple of reduction factor\n",
    "        if model.config.reduction_factor > 1:\n",
    "            target_lengths = torch.tensor([len(feature[\"input_values\"]) for feature in label_features])\n",
    "            target_lengths = target_lengths.new(\n",
    "                [length - length % model.config.reduction_factor for length in target_lengths]\n",
    "            )\n",
    "            max_length = max(target_lengths)\n",
    "            batch[\"labels\"] = batch[\"labels\"][:, :max_length]\n",
    "\n",
    "        # also add in the speaker embeddings\n",
    "        batch[\"speaker_embeddings\"] = torch.tensor(speaker_features)\n",
    "\n",
    "        return batch"
   ]
  },
  {
   "cell_type": "code",
   "execution_count": null,
   "metadata": {
    "executionInfo": {
     "elapsed": 6,
     "status": "ok",
     "timestamp": 1689009958350,
     "user": {
      "displayName": "Arnas Gercas",
      "userId": "05721695559367193707"
     },
     "user_tz": -120
    },
    "id": "xRoP7fLstmt_"
   },
   "outputs": [],
   "source": [
    "data_collator = TTSDataCollatorWithPadding(processor=processor)"
   ]
  },
  {
   "cell_type": "code",
   "execution_count": null,
   "metadata": {
    "id": "njYOb1Tbtm0N"
   },
   "outputs": [],
   "source": [
    "from transformers import SpeechT5ForTextToSpeech\n",
    "\n",
    "model = SpeechT5ForTextToSpeech.from_pretrained(checkpoint)"
   ]
  },
  {
   "cell_type": "code",
   "execution_count": null,
   "metadata": {
    "id": "__YA-R6ctm_o"
   },
   "outputs": [],
   "source": [
    "from functools import partial\n",
    "\n",
    "# disable cache during training since it's incompatible with gradient checkpointing\n",
    "model.config.use_cache = False\n",
    "\n",
    "# set language and task for generation and re-enable cache\n",
    "model.generate = partial(model.generate, use_cache=True)"
   ]
  },
  {
   "cell_type": "code",
   "execution_count": null,
   "metadata": {
    "id": "AoW2nsflvJCK"
   },
   "outputs": [],
   "source": [
    "from transformers import Seq2SeqTrainingArguments\n",
    "\n",
    "training_args = Seq2SeqTrainingArguments(\n",
    "    output_dir=\"speecht5_finetuned_voxpopuli_lt\",  # change to a repo name of your choice\n",
    "    per_device_train_batch_size=4,\n",
    "    gradient_accumulation_steps=8,\n",
    "    learning_rate=1e-5,\n",
    "    warmup_steps=500,\n",
    "    max_steps=4000,\n",
    "    gradient_checkpointing=True,\n",
    "    fp16=True,\n",
    "    evaluation_strategy=\"steps\",\n",
    "    per_device_eval_batch_size=2,\n",
    "    save_steps=1000,\n",
    "    eval_steps=1000,\n",
    "    logging_steps=25,\n",
    "    report_to=[\"tensorboard\"],\n",
    "    load_best_model_at_end=True,\n",
    "    greater_is_better=False,\n",
    "    label_names=[\"labels\"],\n",
    "    push_to_hub=True,\n",
    ")"
   ]
  },
  {
   "cell_type": "code",
   "execution_count": null,
   "metadata": {
    "colab": {
     "base_uri": "https://localhost:8080/"
    },
    "executionInfo": {
     "elapsed": 2446,
     "status": "ok",
     "timestamp": 1688982215376,
     "user": {
      "displayName": "Arnas Gercas",
      "userId": "05721695559367193707"
     },
     "user_tz": -120
    },
    "id": "A6mo1ntfvJGu",
    "outputId": "114ebafb-c1a4-4eb1-abcf-76cf2e2b9b00"
   },
   "outputs": [],
   "source": [
    "from transformers import Seq2SeqTrainer\n",
    "\n",
    "trainer = Seq2SeqTrainer(\n",
    "    args=training_args,\n",
    "    model=model,\n",
    "    train_dataset=dataset[\"train\"],\n",
    "    eval_dataset=dataset[\"test\"],\n",
    "    data_collator=data_collator,\n",
    "    tokenizer=processor,\n",
    ")"
   ]
  },
  {
   "cell_type": "code",
   "execution_count": null,
   "metadata": {
    "colab": {
     "base_uri": "https://localhost:8080/",
     "height": 290
    },
    "executionInfo": {
     "elapsed": 9653027,
     "status": "ok",
     "timestamp": 1688991868635,
     "user": {
      "displayName": "Arnas Gercas",
      "userId": "05721695559367193707"
     },
     "user_tz": -120
    },
    "id": "7rhdBBFPLvk8",
    "outputId": "c4c1548c-3c9f-462e-c0a5-441841a31860"
   },
   "outputs": [],
   "source": [
    "trainer.train()"
   ]
  },
  {
   "cell_type": "code",
   "execution_count": null,
   "metadata": {
    "id": "zgvXTz9UvJNp"
   },
   "outputs": [],
   "source": [
    "kwargs = {\n",
    "    \"dataset_tags\": \"facebook/voxpopuli\",\n",
    "    \"finetuned_from\": \"microsoft/speecht5_tts\",\n",
    "    \"tasks\": \"text-to-speech\",\n",
    "    \"model_name\": \"speecht5_finetuned_voxpopuli_lt\",\n",
    "}"
   ]
  },
  {
   "cell_type": "code",
   "execution_count": null,
   "metadata": {
    "colab": {
     "base_uri": "https://localhost:8080/",
     "height": 373,
     "referenced_widgets": [
      "7aeb8bf0fa9e40bca035cb812f43ab19",
      "ffe36a1ec61941c9815d839683e73ceb",
      "bc2c7ef66fc7487091032bf4e3bbec80",
      "4b00c30bbc044876afd8535ad9f9bb60",
      "11a3966cce8246519899b628f9c7cddf",
      "f0d6694be1794606b11926fbecb1aa27",
      "f020b1e23b9d481a88b2179a9135714c",
      "1c811ac69e4841e48a03bd3f42644dd9",
      "2b01936f4e4a40918b5412679b4095d6",
      "53e863b0288f4050905f68ae687c9d86",
      "21c02db6c5064899ab4230a79c4b488c"
     ]
    },
    "executionInfo": {
     "elapsed": 62977,
     "status": "ok",
     "timestamp": 1688991931609,
     "user": {
      "displayName": "Arnas Gercas",
      "userId": "05721695559367193707"
     },
     "user_tz": -120
    },
    "id": "y8bZRRAMvJlk",
    "outputId": "24cf42f8-acfa-4166-ab42-1b25064b4949"
   },
   "outputs": [],
   "source": [
    "trainer.push_to_hub(**kwargs)"
   ]
  },
  {
   "cell_type": "code",
   "execution_count": null,
   "metadata": {
    "id": "CcpzIz3lvJvc"
   },
   "outputs": [],
   "source": []
  },
  {
   "cell_type": "code",
   "execution_count": null,
   "metadata": {
    "id": "JVdYzrCZvJ3a"
   },
   "outputs": [],
   "source": [
    "# Test It"
   ]
  },
  {
   "cell_type": "code",
   "execution_count": null,
   "metadata": {
    "executionInfo": {
     "elapsed": 11253,
     "status": "ok",
     "timestamp": 1689009719104,
     "user": {
      "displayName": "Arnas Gercas",
      "userId": "05721695559367193707"
     },
     "user_tz": -120
    },
    "id": "bICqMSOa0tNM"
   },
   "outputs": [],
   "source": [
    "from transformers import SpeechT5ForTextToSpeech"
   ]
  },
  {
   "cell_type": "code",
   "execution_count": null,
   "metadata": {
    "colab": {
     "base_uri": "https://localhost:8080/",
     "height": 81,
     "referenced_widgets": [
      "16246c9eecfc415cadefee879e0b72c0",
      "493c4757bfbc440eab4055f825c4eea9",
      "2c8a8d958524496fbeea3eb57a4e474d",
      "f3ad9c8f166b4b20bcbb7e438434fcc3",
      "21bc3f767f2b4dc8acb9e1948d4d0fb9",
      "5399c94cce874ac189156b2699a07f1a",
      "5b099820ce194c9fb16bdd58832efb7b",
      "042f0d2af7c042b4ae6b3d3a24c2ee19",
      "f2ba0e79205045b1b061d5ffacf083e9",
      "b839c60c11594ecf8ccfbae60f273bfd",
      "afff3124f520412ba58aa5428fe22315",
      "2a7f073e58854d4db408157b00c7a025",
      "b06aaf85318b483aa04a710e0d72ac2f",
      "8d0f39acd2804025b4453f3b81add296",
      "852ada9ca5924c769768106c6b9e8de2",
      "c59c840da8f448abbd1c12d666cc484c",
      "82645c785f1b48d8967fc08e63ff164a",
      "8e0117e8e9124af1b14e2239db46a1a4",
      "d2c433d47e604f3b885beec29b50d9da",
      "3ec8b8b063af472c8f5fc1f3863025f0",
      "bdf6028c630e4ee9be87cb145a8b6d70",
      "64cb0852f51845769c4f18f6824401a8"
     ]
    },
    "executionInfo": {
     "elapsed": 13686,
     "status": "ok",
     "timestamp": 1689009734051,
     "user": {
      "displayName": "Arnas Gercas",
      "userId": "05721695559367193707"
     },
     "user_tz": -120
    },
    "id": "-oC0inCMJ6mE",
    "outputId": "7e1cf0e3-05db-485c-eab0-199db7b3ab1f"
   },
   "outputs": [],
   "source": [
    "model = SpeechT5ForTextToSpeech.from_pretrained(\"agercas/speecht5_finetuned_voxpopuli_lt\")"
   ]
  },
  {
   "cell_type": "code",
   "execution_count": null,
   "metadata": {
    "executionInfo": {
     "elapsed": 226,
     "status": "ok",
     "timestamp": 1689010134893,
     "user": {
      "displayName": "Arnas Gercas",
      "userId": "05721695559367193707"
     },
     "user_tz": -120
    },
    "id": "jykKgX3NJ6wb"
   },
   "outputs": [],
   "source": [
    "example = dataset[\"test\"][0]\n",
    "speaker_embeddings = torch.tensor(example[\"speaker_embeddings\"]).unsqueeze(0)"
   ]
  },
  {
   "cell_type": "code",
   "execution_count": null,
   "metadata": {
    "executionInfo": {
     "elapsed": 325,
     "status": "ok",
     "timestamp": 1689010135508,
     "user": {
      "displayName": "Arnas Gercas",
      "userId": "05721695559367193707"
     },
     "user_tz": -120
    },
    "id": "G6X1wXP-J611"
   },
   "outputs": [],
   "source": [
    "text = \"As megstu valgyti cepelinus su grietine\""
   ]
  },
  {
   "cell_type": "code",
   "execution_count": null,
   "metadata": {
    "executionInfo": {
     "elapsed": 3,
     "status": "ok",
     "timestamp": 1689010135749,
     "user": {
      "displayName": "Arnas Gercas",
      "userId": "05721695559367193707"
     },
     "user_tz": -120
    },
    "id": "FFTOGVwLJ666"
   },
   "outputs": [],
   "source": [
    "inputs = processor(text=text, return_tensors=\"pt\")"
   ]
  },
  {
   "cell_type": "code",
   "execution_count": null,
   "metadata": {
    "executionInfo": {
     "elapsed": 6474,
     "status": "ok",
     "timestamp": 1689010142752,
     "user": {
      "displayName": "Arnas Gercas",
      "userId": "05721695559367193707"
     },
     "user_tz": -120
    },
    "id": "VFCK_ChjJ7AZ"
   },
   "outputs": [],
   "source": [
    "from transformers import SpeechT5HifiGan\n",
    "\n",
    "vocoder = SpeechT5HifiGan.from_pretrained(\"microsoft/speecht5_hifigan\")\n",
    "speech = model.generate_speech(inputs[\"input_ids\"], speaker_embeddings, vocoder=vocoder)"
   ]
  },
  {
   "cell_type": "code",
   "execution_count": null,
   "metadata": {
    "colab": {
     "base_uri": "https://localhost:8080/",
     "height": 75
    },
    "executionInfo": {
     "elapsed": 26,
     "status": "ok",
     "timestamp": 1689010142752,
     "user": {
      "displayName": "Arnas Gercas",
      "userId": "05721695559367193707"
     },
     "user_tz": -120
    },
    "id": "mZtupLMxKY1j",
    "outputId": "0b866307-893a-47df-a41e-d80fdc787af2"
   },
   "outputs": [],
   "source": [
    "from IPython.display import Audio\n",
    "\n",
    "Audio(speech.numpy(), rate=16000)"
   ]
  },
  {
   "cell_type": "code",
   "execution_count": null,
   "metadata": {
    "executionInfo": {
     "elapsed": 5,
     "status": "ok",
     "timestamp": 1689009962821,
     "user": {
      "displayName": "Arnas Gercas",
      "userId": "05721695559367193707"
     },
     "user_tz": -120
    },
    "id": "JssjjaxfKY6Z"
   },
   "outputs": [],
   "source": []
  },
  {
   "cell_type": "code",
   "execution_count": null,
   "metadata": {
    "id": "ojFNdFL5KZAS"
   },
   "outputs": [],
   "source": []
  },
  {
   "cell_type": "code",
   "execution_count": null,
   "metadata": {
    "id": "z2r9UXUevJ_b"
   },
   "outputs": [],
   "source": []
  }
 ],
 "metadata": {
  "accelerator": "GPU",
  "colab": {
   "authorship_tag": "ABX9TyPhVmPRXaNfiabaJ+Pr+DWH",
   "gpuType": "T4",
   "provenance": []
  },
  "kernelspec": {
   "display_name": "Python 3",
   "name": "python3"
  },
  "language_info": {
   "name": "python"
  }
 },
 "nbformat": 4,
 "nbformat_minor": 0
}
