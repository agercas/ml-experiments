{
 "cells": [
  {
   "cell_type": "code",
   "execution_count": null,
   "metadata": {
    "executionInfo": {
     "elapsed": 94021,
     "status": "ok",
     "timestamp": 1689201899723,
     "user": {
      "displayName": "Arnas Gercas",
      "userId": "05721695559367193707"
     },
     "user_tz": -120
    },
    "id": "EZry-kTTxNe5"
   },
   "outputs": [],
   "source": [
    "%%capture\n",
    "! pip install gradio datasets[audio] evaluate jiwer datasets soundfile speechbrain accelerate\n",
    "! pip install git+https://github.com/hollance/transformers.git@6900e8ba6532162a8613d2270ec2286c3f58f57b\n",
    "# transformers transformers[torch]"
   ]
  },
  {
   "cell_type": "code",
   "execution_count": null,
   "metadata": {
    "colab": {
     "base_uri": "https://localhost:8080/"
    },
    "executionInfo": {
     "elapsed": 550,
     "status": "ok",
     "timestamp": 1689201900266,
     "user": {
      "displayName": "Arnas Gercas",
      "userId": "05721695559367193707"
     },
     "user_tz": -120
    },
    "id": "D43NkjmkxQwV",
    "outputId": "95ac45c5-64ad-416e-913c-bb4ade31aa5c"
   },
   "outputs": [],
   "source": [
    "! nvidia-smi"
   ]
  },
  {
   "cell_type": "code",
   "execution_count": null,
   "metadata": {
    "colab": {
     "base_uri": "https://localhost:8080/",
     "height": 359,
     "referenced_widgets": [
      "4df434eab8054d4f93adceec02d404a2",
      "53728932755e4eb695b8b2a678af9328",
      "4b0680740a164a0297a9f692ebf1d3db",
      "523e329afc5f4058bdbbeac7e12b2d00",
      "57791db6e9b64ccdb4af3bab755717f6",
      "91e0040558dd4c90866019dc84b8ca0d",
      "f395c850b0524cdc97b66fae61b0a253",
      "ceb08e612afe48dfaf795c4e0ec2951d",
      "43e0bbb6774d4ae7a5a6a7ff901994c0",
      "ce9b40e8bdc941bc99069edefe362ac1",
      "0bd873b8e27f40708db3a1c9e5c43ae1",
      "3871d43de90b4e97a16055f2b2618736",
      "65eecbb3150f49daba65aa4fb2f89082",
      "da0287aaef7e4dcfbb55a2d9fa18054d",
      "274cb0d494644a728198bb71f30fb57d",
      "1b5647092d7949d4ac66339893f04b50",
      "687c817fbcfb4038aa83fbaa1c7efedb"
     ]
    },
    "executionInfo": {
     "elapsed": 5,
     "status": "ok",
     "timestamp": 1689201900266,
     "user": {
      "displayName": "Arnas Gercas",
      "userId": "05721695559367193707"
     },
     "user_tz": -120
    },
    "id": "Ee3CJfA7xQ9j",
    "outputId": "6ce4898a-7e92-4f77-e9c4-62fc2c8dd854"
   },
   "outputs": [],
   "source": [
    "from huggingface_hub import notebook_login\n",
    "\n",
    "notebook_login()"
   ]
  },
  {
   "cell_type": "code",
   "execution_count": null,
   "metadata": {
    "executionInfo": {
     "elapsed": 4,
     "status": "ok",
     "timestamp": 1689201900267,
     "user": {
      "displayName": "Arnas Gercas",
      "userId": "05721695559367193707"
     },
     "user_tz": -120
    },
    "id": "NV6jdvK4x76r"
   },
   "outputs": [],
   "source": [
    "# Speech translation"
   ]
  },
  {
   "cell_type": "code",
   "execution_count": null,
   "metadata": {
    "executionInfo": {
     "elapsed": 19063,
     "status": "ok",
     "timestamp": 1689201919326,
     "user": {
      "displayName": "Arnas Gercas",
      "userId": "05721695559367193707"
     },
     "user_tz": -120
    },
    "id": "WX9v2QZhxRHi"
   },
   "outputs": [],
   "source": [
    "import torch\n",
    "from transformers import pipeline\n",
    "\n",
    "device = \"cuda:0\" if torch.cuda.is_available() else \"cpu\"\n",
    "pipe = pipeline(\"automatic-speech-recognition\", model=\"openai/whisper-base\", device=device)"
   ]
  },
  {
   "cell_type": "code",
   "execution_count": null,
   "metadata": {
    "executionInfo": {
     "elapsed": 14286,
     "status": "ok",
     "timestamp": 1689201933596,
     "user": {
      "displayName": "Arnas Gercas",
      "userId": "05721695559367193707"
     },
     "user_tz": -120
    },
    "id": "lFTIM2aExViw"
   },
   "outputs": [],
   "source": [
    "from datasets import load_dataset\n",
    "\n",
    "dataset = load_dataset(\"facebook/voxpopuli\", \"it\", split=\"validation\", streaming=True)\n",
    "sample = next(iter(dataset))"
   ]
  },
  {
   "cell_type": "code",
   "execution_count": null,
   "metadata": {
    "colab": {
     "base_uri": "https://localhost:8080/",
     "height": 75
    },
    "executionInfo": {
     "elapsed": 21,
     "status": "ok",
     "timestamp": 1689201933597,
     "user": {
      "displayName": "Arnas Gercas",
      "userId": "05721695559367193707"
     },
     "user_tz": -120
    },
    "id": "e9ewgl4AxVnN",
    "outputId": "aa784507-7e3e-4a73-bd53-15a1c76b9fd3"
   },
   "outputs": [],
   "source": [
    "from IPython.display import Audio\n",
    "\n",
    "Audio(sample[\"audio\"][\"array\"], rate=sample[\"audio\"][\"sampling_rate\"])"
   ]
  },
  {
   "cell_type": "code",
   "execution_count": null,
   "metadata": {
    "executionInfo": {
     "elapsed": 6,
     "status": "ok",
     "timestamp": 1689201933597,
     "user": {
      "displayName": "Arnas Gercas",
      "userId": "05721695559367193707"
     },
     "user_tz": -120
    },
    "id": "E2AFpPUGxRNA"
   },
   "outputs": [],
   "source": [
    "def translate(audio):\n",
    "    outputs = pipe(\n",
    "        audio,\n",
    "        max_new_tokens=256,\n",
    "        generate_kwargs={\"task\": \"translate\", \"language\": \"de\"},\n",
    "    )\n",
    "    return outputs[\"text\"]"
   ]
  },
  {
   "cell_type": "code",
   "execution_count": null,
   "metadata": {
    "colab": {
     "base_uri": "https://localhost:8080/",
     "height": 35
    },
    "executionInfo": {
     "elapsed": 8309,
     "status": "ok",
     "timestamp": 1689201941900,
     "user": {
      "displayName": "Arnas Gercas",
      "userId": "05721695559367193707"
     },
     "user_tz": -120
    },
    "id": "7rAmhMgQxRSL",
    "outputId": "8566dc02-63f2-47e7-98a8-2db94e826eb3"
   },
   "outputs": [],
   "source": [
    "translate(sample[\"audio\"].copy())"
   ]
  },
  {
   "cell_type": "code",
   "execution_count": null,
   "metadata": {
    "colab": {
     "base_uri": "https://localhost:8080/",
     "height": 53
    },
    "executionInfo": {
     "elapsed": 7,
     "status": "ok",
     "timestamp": 1689201941901,
     "user": {
      "displayName": "Arnas Gercas",
      "userId": "05721695559367193707"
     },
     "user_tz": -120
    },
    "id": "14zXBBVrxRXo",
    "outputId": "d09b1865-f81f-4119-bb8f-b6e5f16fd5cb"
   },
   "outputs": [],
   "source": [
    "sample[\"raw_text\"]"
   ]
  },
  {
   "cell_type": "code",
   "execution_count": null,
   "metadata": {
    "executionInfo": {
     "elapsed": 5,
     "status": "ok",
     "timestamp": 1689201941901,
     "user": {
      "displayName": "Arnas Gercas",
      "userId": "05721695559367193707"
     },
     "user_tz": -120
    },
    "id": "czM100pCxm61"
   },
   "outputs": [],
   "source": [
    "# text-to-speech"
   ]
  },
  {
   "cell_type": "code",
   "execution_count": null,
   "metadata": {
    "colab": {
     "base_uri": "https://localhost:8080/",
     "height": 177,
     "referenced_widgets": [
      "94b0a978923d4550815f052856c1ba6e",
      "07de1d27177e4a239c12f968f56202c6",
      "24d49bfad2a544fb8e2a6eb87e327da9",
      "c451eaadae4f4b8ba85b34427271afe6",
      "d8d57c673f1c4163b0e1cdb76363c024",
      "dfac26c4b4a744afb1ce408e9c60998d",
      "3df07679b6724b4a854f13ec89d38e40",
      "0a0bcfd5c499475aaf34d90f071022c7",
      "0d7ce31194d74c44bafa8f44f4ffde4e",
      "febf1bb0946e495786d67e0dd3ab4036",
      "a5f425a5027841898769ced992a83a36",
      "5f8c1661c7d742cc92b3ba598eb447d8",
      "47483eb19d7043a495a9545cc2c57714",
      "2c286785eb5b4434aba0bda8181a82ec",
      "ee4b74edb65d46c690377f1f05d62e7e",
      "cfc08b590345468bb2edc10b695faf6e",
      "4bb644ff7c514511ba8d23cbf2e591c2",
      "07e52d2ab39147178bc5ebdd925efc73",
      "a6b761a07a294eccabf9ab63efa0305d",
      "9c132f4e511743638444d6a21e6baa7b",
      "946a41662cb949e18db3d26c6756301a",
      "cdfb37f0d18d446cbc5c769dd53fe227",
      "d2a8fd15e0d34f118f6e9c555e2a3f79",
      "e63f304cf75a4d0db546cb55e97fe49c",
      "9051c2be117b4292a8b2a77086401e85",
      "d0eb1544eed944119dff1483d0e0b8dd",
      "653fcfbfa2c34558ac698b3c8e1808cb",
      "0f1cb0f66eab4cba9f7dff0a386d5a27",
      "9b52a0f857754e9dac86ba25cf39facb",
      "6b7fd0c3cda54fd4aff03287c28a92c3",
      "37b3acef0fb34b53a176be15ce0a9291",
      "77fb70e1f64d4acd909f6e76a508f13b",
      "967bf6f5a5844cedabea4db13bcd38bf",
      "4cc2bdebe0f94504ae35fe4aa50fbe82",
      "572c73bf6e664dcea56683bc4a086c67",
      "8b5934b6e4f44326be6608a1b85fdb20",
      "471965646eff445ea6234600a8a12405",
      "3ad02d97b7f24514826350741bd23569",
      "e52d7b6f5ce34cdf813f763dc16fc170",
      "ad59a99a47104050b8d266ea7d469f2d",
      "4b27e65c6c014cfd97473a9762c0d4fe",
      "38f87dba439548d5ad227237a927cb9c",
      "c93c09245305425baad0c0c3b2e4ee3d",
      "876e18da23d541a19b4219bfceacb01c",
      "b20363c1ea484fdd8d81616e97dae1ae",
      "c392380d9afc444c8345f1955d08181a",
      "eb81a0c360f844b385cc6ed69aac6b4b",
      "b493feb727fb45858fdfb16cb09360da",
      "84884995208b4e3faea1dadcea9fc163",
      "18b850cb58144ed0ae82d65d7fa37cf5",
      "c18368c579f84963bc3a69a6e6f3daab",
      "4f1b08b676e14f979ac98efef30455c3",
      "98cabd00415c44eb924ba363f0b75dd5",
      "65ae88f2e23646f0a9cf479d8d609c5f",
      "8a9f59028f384633aaa6c05acb63e61c"
     ]
    },
    "executionInfo": {
     "elapsed": 20456,
     "status": "ok",
     "timestamp": 1689201962353,
     "user": {
      "displayName": "Arnas Gercas",
      "userId": "05721695559367193707"
     },
     "user_tz": -120
    },
    "id": "I2s-VFoCxnEz",
    "outputId": "bb691dca-e8bc-4032-97dd-22079f96b6fb"
   },
   "outputs": [],
   "source": [
    "# from transformers import SpeechT5Processor, SpeechT5ForTextToSpeech, SpeechT5HifiGan\n",
    "\n",
    "# processor = SpeechT5Processor.from_pretrained(\"microsoft/speecht5_tts\")\n",
    "\n",
    "# model = SpeechT5ForTextToSpeech.from_pretrained(\"microsoft/speecht5_tts\")\n",
    "# vocoder = SpeechT5HifiGan.from_pretrained(\"microsoft/speecht5_hifigan\")\n",
    "\n",
    "from transformers import VitsModel, VitsTokenizer\n",
    "\n",
    "model = VitsModel.from_pretrained(\"Matthijs/mms-tts-deu\")\n",
    "tokenizer = VitsTokenizer.from_pretrained(\"Matthijs/mms-tts-deu\")"
   ]
  },
  {
   "cell_type": "code",
   "execution_count": null,
   "metadata": {
    "colab": {
     "base_uri": "https://localhost:8080/"
    },
    "executionInfo": {
     "elapsed": 358,
     "status": "ok",
     "timestamp": 1689201986647,
     "user": {
      "displayName": "Arnas Gercas",
      "userId": "05721695559367193707"
     },
     "user_tz": -120
    },
    "id": "H1H8GXZPxnKK",
    "outputId": "9fc5b896-895a-4d0d-fccd-0c2ee0147957"
   },
   "outputs": [],
   "source": [
    "model.to(device)\n",
    "# tokenizer.to(device)"
   ]
  },
  {
   "cell_type": "code",
   "execution_count": null,
   "metadata": {
    "colab": {
     "base_uri": "https://localhost:8080/",
     "height": 168,
     "referenced_widgets": [
      "29b6f941211c400185218c4b5fcb2c4b",
      "f70aacd9577046e1aa9b84fc791e03fb",
      "5d51ebf9087346269701ffdedad34087",
      "7e849ab15be749f490e9c8decd961b8c",
      "b9a968eb07f44bcda0badae751e7d1bb",
      "ec5851c8ee5d4fb8aa7d612861def55c",
      "f352b1bab8f440ecbee7c072426c4540",
      "942cbcb5cce54dc184287c88e9717750",
      "4aa42b756bfe400ea573fea4b1b65089",
      "b0e3abfc80784a4ab95a440bde939950",
      "8ff7249b7c364dc2a42fc0319c242068",
      "9210d4d52a1b4974a9e4555d77015b15",
      "ddbfc3b297d04f619cb76f4d9aa0326d",
      "1185ba61c278454da9981fe63eda2465",
      "4ae89e363ed144c189d62c26f4782fad",
      "f570124d9a53420f94f5503bd54dfc17",
      "d74d0fe37b6f48a1b9ae424dc2c95384",
      "4da0f26303a4426080d2f7a8efd626d2",
      "bc66cd08e0d942248d3d546fdae532a7",
      "b5fdd4632e8f47b59c7f1d4c3267f335",
      "e0925d5a98904d7b8b3153d0c080c709",
      "292baede156d40be9fa9807e08d29892",
      "5ed0ef06142b44db9ae8d9884b71ec61",
      "e13dcc699ff044c79e76ee586877fd65",
      "36e1f99138914a909665e1dbca331411",
      "025fa8e7c8674f5792fa14fd61847d0d",
      "96f91a905a0142c1afa3f4162a9473a3",
      "1d114e46625c4bf6af4586f2a7a8c31d",
      "29024636d3974bc5aa6ca25fa1149eca",
      "c4a501e556b243e698d6cb948b3874c5",
      "b7d5db269344487a8c830e925681c655",
      "5b41b92ff9e243de879e4a66fb99388e",
      "0bdb470751ce458f97657d056ddb7a30",
      "a5276b10a3464c3b82a922abc1c75251",
      "aa6d6e002d29447ea01746899406d5f5",
      "1002a0498aea499e97fb6a0ee6fea190",
      "b9ea17b8191847d9a0d5c80afc04a4e8",
      "0b2d03b622c74a93b955931ddfc1f6f3",
      "b048a4844a124363a3848e8489782c4d",
      "2fa5ad0a98e24ee98e9569ddb56b1fa9",
      "92edd8ba6d06432ebb67039343dc88eb",
      "002c48522a4e451393394993b7e91b8d",
      "04972632d9d14e60b3f120aac0c71313",
      "fdab3e35096a417990c4e8d847d5742d"
     ]
    },
    "executionInfo": {
     "elapsed": 46028,
     "status": "ok",
     "timestamp": 1689202047819,
     "user": {
      "displayName": "Arnas Gercas",
      "userId": "05721695559367193707"
     },
     "user_tz": -120
    },
    "id": "3xwKreS7xnP6",
    "outputId": "d9ac7915-cb82-42c0-c770-dd1fb080bfdf"
   },
   "outputs": [],
   "source": [
    "embeddings_dataset = load_dataset(\"Matthijs/cmu-arctic-xvectors\", split=\"validation\")\n",
    "speaker_embeddings = torch.tensor(embeddings_dataset[7306][\"xvector\"]).unsqueeze(0)"
   ]
  },
  {
   "cell_type": "code",
   "execution_count": null,
   "metadata": {
    "executionInfo": {
     "elapsed": 482,
     "status": "ok",
     "timestamp": 1689202733456,
     "user": {
      "displayName": "Arnas Gercas",
      "userId": "05721695559367193707"
     },
     "user_tz": -120
    },
    "id": "1uCm4mlAxnVf"
   },
   "outputs": [],
   "source": [
    "def synthesise(text):\n",
    "    # inputs = processor(text=text, return_tensors=\"pt\")\n",
    "    # speech = model.generate_speech(\n",
    "    #     inputs[\"input_ids\"].to(device), speaker_embeddings.to(device), vocoder=vocoder\n",
    "    # )\n",
    "    # return speech.cpu()\n",
    "\n",
    "    inputs = tokenizer(text=text, return_tensors=\"pt\")\n",
    "    with torch.no_grad():\n",
    "        speech = model(inputs[\"input_ids\"].to(device))\n",
    "\n",
    "    return speech.audio[0]"
   ]
  },
  {
   "cell_type": "code",
   "execution_count": null,
   "metadata": {
    "colab": {
     "base_uri": "https://localhost:8080/",
     "height": 75
    },
    "executionInfo": {
     "elapsed": 9726,
     "status": "ok",
     "timestamp": 1689202743670,
     "user": {
      "displayName": "Arnas Gercas",
      "userId": "05721695559367193707"
     },
     "user_tz": -120
    },
    "id": "z84beo72xnas",
    "outputId": "87fc4f38-e94b-4a0e-92d8-53e0ff35f398"
   },
   "outputs": [],
   "source": [
    "speech = synthesise(\n",
    "    \"Hallo, wie heisst du? Ich komme aus der Schweiz! Ich mag am Wochenende lange schlafen. Das Wetter is heute schon.\"\n",
    ")\n",
    "\n",
    "Audio(speech, rate=16000)"
   ]
  },
  {
   "cell_type": "code",
   "execution_count": null,
   "metadata": {
    "executionInfo": {
     "elapsed": 6,
     "status": "aborted",
     "timestamp": 1689201962354,
     "user": {
      "displayName": "Arnas Gercas",
      "userId": "05721695559367193707"
     },
     "user_tz": -120
    },
    "id": "Ea5xeJiCxnft"
   },
   "outputs": [],
   "source": [
    "# Combining"
   ]
  },
  {
   "cell_type": "code",
   "execution_count": null,
   "metadata": {
    "executionInfo": {
     "elapsed": 6,
     "status": "aborted",
     "timestamp": 1689201962354,
     "user": {
      "displayName": "Arnas Gercas",
      "userId": "05721695559367193707"
     },
     "user_tz": -120
    },
    "id": "vXh8kHouyZby"
   },
   "outputs": [],
   "source": [
    "import numpy as np\n",
    "\n",
    "target_dtype = np.int16\n",
    "max_range = np.iinfo(target_dtype).max\n",
    "\n",
    "\n",
    "def speech_to_speech_translation(audio):\n",
    "    translated_text = translate(audio)\n",
    "    synthesised_speech = synthesise(translated_text)\n",
    "    synthesised_speech = (synthesised_speech.numpy() * max_range).astype(np.int16)\n",
    "    return 16000, synthesised_speech"
   ]
  },
  {
   "cell_type": "code",
   "execution_count": null,
   "metadata": {
    "executionInfo": {
     "elapsed": 6,
     "status": "aborted",
     "timestamp": 1689201962354,
     "user": {
      "displayName": "Arnas Gercas",
      "userId": "05721695559367193707"
     },
     "user_tz": -120
    },
    "id": "N90dEXAbyb6z"
   },
   "outputs": [],
   "source": [
    "sampling_rate, synthesised_speech = speech_to_speech_translation(sample[\"audio\"])\n",
    "\n",
    "Audio(synthesised_speech, rate=sampling_rate)"
   ]
  },
  {
   "cell_type": "code",
   "execution_count": null,
   "metadata": {
    "executionInfo": {
     "elapsed": 7,
     "status": "aborted",
     "timestamp": 1689201962355,
     "user": {
      "displayName": "Arnas Gercas",
      "userId": "05721695559367193707"
     },
     "user_tz": -120
    },
    "id": "HPHi-vjGycFc"
   },
   "outputs": [],
   "source": [
    "import gradio as gr\n",
    "\n",
    "demo = gr.Blocks()\n",
    "\n",
    "mic_translate = gr.Interface(\n",
    "    fn=speech_to_speech_translation,\n",
    "    inputs=gr.Audio(source=\"microphone\", type=\"filepath\"),\n",
    "    outputs=gr.Audio(label=\"Generated Speech\", type=\"numpy\"),\n",
    ")\n",
    "\n",
    "file_translate = gr.Interface(\n",
    "    fn=speech_to_speech_translation,\n",
    "    inputs=gr.Audio(source=\"upload\", type=\"filepath\"),\n",
    "    outputs=gr.Audio(label=\"Generated Speech\", type=\"numpy\"),\n",
    ")\n",
    "\n",
    "with demo:\n",
    "    gr.TabbedInterface([mic_translate, file_translate], [\"Microphone\", \"Audio File\"])\n",
    "\n",
    "demo.launch(debug=True)"
   ]
  },
  {
   "cell_type": "code",
   "execution_count": null,
   "metadata": {
    "executionInfo": {
     "elapsed": 7,
     "status": "aborted",
     "timestamp": 1689201962355,
     "user": {
      "displayName": "Arnas Gercas",
      "userId": "05721695559367193707"
     },
     "user_tz": -120
    },
    "id": "GNB5MYGNycLE"
   },
   "outputs": [],
   "source": []
  },
  {
   "cell_type": "code",
   "execution_count": null,
   "metadata": {
    "executionInfo": {
     "elapsed": 7,
     "status": "aborted",
     "timestamp": 1689201962355,
     "user": {
      "displayName": "Arnas Gercas",
      "userId": "05721695559367193707"
     },
     "user_tz": -120
    },
    "id": "WeuxR6doycUB"
   },
   "outputs": [],
   "source": []
  },
  {
   "cell_type": "code",
   "execution_count": null,
   "metadata": {
    "executionInfo": {
     "elapsed": 7,
     "status": "aborted",
     "timestamp": 1689201962355,
     "user": {
      "displayName": "Arnas Gercas",
      "userId": "05721695559367193707"
     },
     "user_tz": -120
    },
    "id": "1tyDC3kVxnmK"
   },
   "outputs": [],
   "source": []
  }
 ],
 "metadata": {
  "colab": {
   "authorship_tag": "ABX9TyPh73iHv68o1H151Mq+8Fbs",
   "provenance": []
  },
  "kernelspec": {
   "display_name": "Python 3",
   "name": "python3"
  },
  "language_info": {
   "name": "python"
  }
 },
 "nbformat": 4,
 "nbformat_minor": 0
}
