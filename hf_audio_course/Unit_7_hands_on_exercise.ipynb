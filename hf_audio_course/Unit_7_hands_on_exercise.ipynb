{
 "cells": [
  {
   "cell_type": "code",
   "execution_count": null,
   "metadata": {
    "executionInfo": {
     "elapsed": 34673,
     "status": "ok",
     "timestamp": 1689193393886,
     "user": {
      "displayName": "Arnas Gercas",
      "userId": "05721695559367193707"
     },
     "user_tz": -120
    },
    "id": "EZry-kTTxNe5"
   },
   "outputs": [],
   "source": [
    "%%capture\n",
    "!pip install gradio transformers transformers[torch] datasets[audio] evaluate jiwer datasets soundfile speechbrain accelerate"
   ]
  },
  {
   "cell_type": "code",
   "execution_count": null,
   "metadata": {
    "colab": {
     "base_uri": "https://localhost:8080/"
    },
    "executionInfo": {
     "elapsed": 10,
     "status": "ok",
     "timestamp": 1689193393887,
     "user": {
      "displayName": "Arnas Gercas",
      "userId": "05721695559367193707"
     },
     "user_tz": -120
    },
    "id": "D43NkjmkxQwV",
    "outputId": "0f107195-3019-49d6-ea0e-94be25ff6f5f"
   },
   "outputs": [],
   "source": [
    "! nvidia-smi"
   ]
  },
  {
   "cell_type": "code",
   "execution_count": null,
   "metadata": {
    "colab": {
     "base_uri": "https://localhost:8080/",
     "height": 145,
     "referenced_widgets": [
      "ad610abf7265414392866157794585f3",
      "ed521d4a918d4e528ed610bf144ec187",
      "19cf8b86cab04bc49a84ef2b90cc51c4",
      "fdeb91a0e27b4eddb47ad66cf4b40768",
      "5f57b3bca5e943039874aca228f4b11f",
      "a7bee73a7c0b45889f8809fb13e725a8",
      "2498f6aaf52f45b498f9fd452ee589b9",
      "9c1ed93c68a24deba429d075ecb423fc",
      "e4cd7d8e9ba34a25a30a1dd58000240b",
      "b2542bd6a94444c39e98299c0da7b14f",
      "49414fd3e22a4a5794e5016c02ebb48c",
      "ea63fc782bd543e2b7ef75ed1e62415d",
      "52f5af6ad1cb4da788fea0ac6e967678",
      "8fa7664243594449a05c97ca4212b1e2",
      "7b24e10606894c679954801f10d51d29",
      "a2aa3d8cbf9148d291e4e1290fc5e772",
      "c7371e565a3141eb9460fc702a862c29",
      "2c0ff2e46f5e42eb80f6558cca9ead48",
      "e97973486ecc493dbb8b2dcc658044a8",
      "23ddcd098cb340d3a027ec65e68f01ed",
      "43e0cec24bf84b7b82b7a65de0dc14b8",
      "f132e0576d654af78b52c71689325ea8",
      "97213064a0cf4677935066ac975ce458",
      "6920f06309dc4e429a265eef692d6176",
      "7fe0937bb4614dbf8d321f74425577ad",
      "e475529448074366958c943fc8530c8a",
      "daed9b6e644743878c134164c784a110",
      "345a41a424d3485cb0f01a671c2b7c34",
      "66d4b66b0daa4d839918f19b103ad5ab",
      "a7bc3111d3064e6391441aab0029772d",
      "cc098b9662154ff49820e8cf39f5384a",
      "940ec50accd64b059b413faac0cc2a92"
     ]
    },
    "executionInfo": {
     "elapsed": 514,
     "status": "ok",
     "timestamp": 1689193394396,
     "user": {
      "displayName": "Arnas Gercas",
      "userId": "05721695559367193707"
     },
     "user_tz": -120
    },
    "id": "Ee3CJfA7xQ9j",
    "outputId": "990f5433-9fcf-49ee-eef9-493b5969daf9"
   },
   "outputs": [],
   "source": [
    "from huggingface_hub import notebook_login\n",
    "\n",
    "notebook_login()"
   ]
  },
  {
   "cell_type": "code",
   "execution_count": null,
   "metadata": {
    "executionInfo": {
     "elapsed": 4,
     "status": "ok",
     "timestamp": 1689193551276,
     "user": {
      "displayName": "Arnas Gercas",
      "userId": "05721695559367193707"
     },
     "user_tz": -120
    },
    "id": "NV6jdvK4x76r"
   },
   "outputs": [],
   "source": [
    "# Speech translation"
   ]
  },
  {
   "cell_type": "code",
   "execution_count": null,
   "metadata": {
    "colab": {
     "base_uri": "https://localhost:8080/",
     "height": 369,
     "referenced_widgets": [
      "4bd6d27be70346b49a570979ea1787d9",
      "f10bd204deb5412fadda735ef27ec729",
      "99481f32cfda4c2ba8e9d036f75a2caa",
      "317c5b2ff5514ae588e23a1a28d9654d",
      "64e7264419b445a29f311a0282f05d85",
      "4589c10975f940a5b6e3133fafd144b4",
      "568fc2ecee624f5a996bf7372312f014",
      "5c6c27167ef943378590c04ec24ce1e2",
      "0ece4bf1eb2f407bb78670f971f0b7fa",
      "f85b23d531ef411287153b87906af576",
      "5b4d3c65f44b42bebeb59e8ad8b55a00",
      "03a7ea29e6204ef18ae687fdc7f476c5",
      "60e5e4aad2484a42a1fd922a9421b6a3",
      "c58b3666960a4cd1be9a6b68989e08c9",
      "6f8097d04697489e976044570c3f1282",
      "8e1a7ead9a774bda9fdc095ff4675976",
      "2e85c61b921b4c94a2d69f692a5f85e2",
      "746f1c9d7db44b4f8628c48065f1ff87",
      "f6e61557fd8f40ec856f17af4e00bd69",
      "44b251dcc25d4fa39acd5d3f7a8ff7f5",
      "ffa8389f664949b2b1875283ec678bc1",
      "d047d2a694a041f9b214b2b52ff5d677",
      "8206a2fa2928497fae39b3782e888e5b",
      "b0e6df28c0d9407b8474cdb9cf2346db",
      "4b4dbcbc57544673928af839345109d4",
      "a1a81aa58b2e43c485a8e955997055d8",
      "59421c5a932e4c10b247bd8b03037a75",
      "c090abeacf8a4818ae8f98dd52421c79",
      "cdf98a39d6f14083bf77c08ac7bfb406",
      "fb0a055701c24da7a86bf7e83e2209e7",
      "38000fa7e86d4a4f85d08cae537767a5",
      "c14dea7842ce4123ad043b5685f0c0fb",
      "fbdbbf45b34349d78bcaaf925a933328",
      "4dc851f531694715b46403cda9f4bd78",
      "da18a361b4054430849dff3216cf9fca",
      "6b88c258b0b140c59c526c862e59ad69",
      "797a1052dcfb42f0aed3dba97b5cecac",
      "b53e2b07b36f44aa80607a105c78f5eb",
      "7a5ec2a5240e46b497c433fcca5ecb65",
      "45f9f03039fd4852b374a6a28974902e",
      "485366c91a1846b7827b7d6901b25ce1",
      "c0f65ecfb06a4c1f868f3833cc97e88e",
      "cfdcbe9f80c34f23800e18c7b894624e",
      "3703a89d41f8438596623c19c6143d58",
      "c920220ed58841ed893ab40a6dedaa70",
      "eec9c55c75bd419b8d95e1a25d68964c",
      "6f16d085d69c4a4d969d979866e1cc6b",
      "d18ffb857db04ac296fefecf36bdefe9",
      "4ad0567cb8d6458dae93d83c6d5e8cb6",
      "520f360cf674434c8689fbe6a27f0d76",
      "0f890b219e634b48956f86a259cbf5d2",
      "844ceb6185c1450aaeab2dff85442728",
      "7a92f50b1151421a978e9f91a5164cd8",
      "193a85616e0744a392b17ad7fc6cfcca",
      "03644f04bc094788b9a4f383341ab842",
      "ffaa7209f6114c699ab1cfa7363140f4",
      "5472908017ef43ae84726e1f87d4af5f",
      "856330beace94f9bbf0269517dd22b91",
      "f13d7eb44f1d4ed8a8671fad7cb698ed",
      "1bffcc4be8b844eca08739fd994f2346",
      "6852cf203a47492b93df318ec6c8f8ef",
      "6ca04885b04c4dbe8fc0f4743ac14cd2",
      "4bcfe07c7a2c4041bdda64ef7b5f7928",
      "5f705e37d800455fab64a36f3301ac51",
      "4a102e9b6b9e49c3998c4095ba6472e1",
      "dd8e8065bbb24b25b1156cf687b7f9be",
      "3e6e359a9acb4456b16a444d0d3dd7b3",
      "9c5772457f2d4ce7a8a6e5eaf3319e47",
      "e000785c88db45d9a967710bd1088071",
      "0cd79d7e8ce042e3ad59c86bad3057ac",
      "270a6f8e9f844d599627d23b6d215709",
      "2625db67130347b6bdc6cf117e4f47ad",
      "b69022a5d82e46da8ba5a644052a360f",
      "bdda3bcb6d3a4089a72996cdf1813cd2",
      "97fddfbb34de4760854a03f014864cef",
      "8bf2511c5d894ecca7e6e4a97d940b44",
      "bc2fda95cd554a4597f789378a06ce9a",
      "edb6eb6aa54b4d1286e9cec8a9f7c9e3",
      "d509163dc8d441118a8438a89bdd038f",
      "1417b97d14364142ac49b4ae1c0f0217",
      "cfb9833d3a5c477597c046270b9c443b",
      "f6fe00bfc6634e458f83815512eaaad4",
      "16510c6ba23f4ef3b83f487b088ecfa3",
      "99dec2cfb0d141d58c3c8753caf7f386",
      "f79e612c4e764f94a27484e125824b9e",
      "94bf2b6126e8496e9d1415bb3186629d",
      "d2b294f20d2b4db1a7eb68506be4c89d",
      "b6259211202f4c0b980701de414554b4",
      "f30deb2c86b5488792898251702b8dc4",
      "50734ab024cd4b66afe8e4a2519e291f",
      "4e67861222ff4fa6aa5590779697fefc",
      "dfde395395d440a0a745fb70d4ae2bc8",
      "f489f99abc184fcdb95715a085432299",
      "e64464e00d204e969828e9eb47de373e",
      "d621dc948357465a8beabfad355bceb3",
      "21f0d14f68f64113aa52289ad5651970",
      "8121038b0f9447e9bcb8f82d2ce4005c",
      "a6d4d3bb8263447c94abe1dac1a0faf2",
      "11fa0ede99f549c088e88c07485f073f",
      "0c47b79daa31427487a0c379498561bc",
      "24f8ff39f45f4b0797c25e4ebbcbe152",
      "eb562b3e8e054f67a1bc8def977a2d94",
      "8d017b79cea34683a3ab0419d547b4c8",
      "06369664209c42fcb717ed85af056ba7",
      "dd58334c678c4dad899dce1bee88dd1a",
      "8cf1cff4012f42edbec45e0fe9449303",
      "96c3cb4bbb9d491e861b80a2d20585da",
      "5348fe38f3764a31a6763e6d76b89d69",
      "a5e3cfb8ea7c47eaa41fc118a07d8cc9",
      "782f6e50cff64481b2fb8117ccb2504a",
      "3dfbe92d09ce46e2b16b74f5d2427b8b",
      "59422072a6ad4d218f7da8010b20eeb5",
      "d7eeb4518f6148e7a23905a8e3f9d707",
      "ff51f55c3f304cacaf49608746aacf0e",
      "31d0e0d7437b47baa87528fc62e5f53a",
      "5313e9b24aa84b40a3a75f1f9c38b7b1",
      "8c9547242057438d81c41133e76c6778",
      "cfe6071690cc4a0f84e9e5f053f4d708",
      "aff97110ffa748c6b6045626effb50ad",
      "73dcc9308fc74956af8b7a561623dba4",
      "53963ec3fa2b4db4ab0173f7075f89df"
     ]
    },
    "executionInfo": {
     "elapsed": 21017,
     "status": "ok",
     "timestamp": 1689193433023,
     "user": {
      "displayName": "Arnas Gercas",
      "userId": "05721695559367193707"
     },
     "user_tz": -120
    },
    "id": "WX9v2QZhxRHi",
    "outputId": "ef22a1eb-2683-45f3-bb87-8bfcb3d043d5"
   },
   "outputs": [],
   "source": [
    "import torch\n",
    "from transformers import pipeline\n",
    "\n",
    "device = \"cuda:0\" if torch.cuda.is_available() else \"cpu\"\n",
    "pipe = pipeline(\"automatic-speech-recognition\", model=\"openai/whisper-base\", device=device)"
   ]
  },
  {
   "cell_type": "code",
   "execution_count": null,
   "metadata": {
    "colab": {
     "base_uri": "https://localhost:8080/",
     "height": 81,
     "referenced_widgets": [
      "70c8bd39559145639d90d76484131551",
      "5e58178089d843fbb27bc045fb41bcf6",
      "ac28b5e0242e4b42b812dedc71dd6497",
      "6a2a7b0be49548968ca60c3e4f168755",
      "103dbf8803ae4db3b9aaadd0da9c7bb4",
      "47f970ca998f40989f8ca9a554fb2d69",
      "a8c099e1b25d4daf855acbaea90a264e",
      "a4f49d2412994995add12e74a097c00d",
      "652135a89ed0405bbcda771c41297ef4",
      "8c0b031fbbc048cab7f4443d981427c2",
      "425d5de4bb9a4623a08ddcae263c1d57",
      "2567bd021ea64391b93970acc1f6c682",
      "fdda8597de6845e38cee3c864f2e5a47",
      "3ca4ced40b4744a6805ba060588d92a3",
      "dc81d2c733b642dca04adb0b37887515",
      "a759b8e879b64ed6bbc93898f510bff1",
      "d7068de6d144486db2445eced1b1d955",
      "adcdd1d82aa04c56a6ddf989c281e98f",
      "6b5b9885eba1482086b1c6426447f026",
      "eaa912748c38468d932c4a6816eee8ec",
      "9d45b815e23a47dba6ff8abc1ffe5e8d",
      "40600eaeb19e4a04bd0b67de25f5b047"
     ]
    },
    "executionInfo": {
     "elapsed": 20850,
     "status": "ok",
     "timestamp": 1689193453851,
     "user": {
      "displayName": "Arnas Gercas",
      "userId": "05721695559367193707"
     },
     "user_tz": -120
    },
    "id": "lFTIM2aExViw",
    "outputId": "cc0aa159-fa56-4da8-c127-ab6b2ceadc39"
   },
   "outputs": [],
   "source": [
    "from datasets import load_dataset\n",
    "\n",
    "dataset = load_dataset(\"facebook/voxpopuli\", \"it\", split=\"validation\", streaming=True)\n",
    "sample = next(iter(dataset))"
   ]
  },
  {
   "cell_type": "code",
   "execution_count": null,
   "metadata": {
    "colab": {
     "base_uri": "https://localhost:8080/",
     "height": 75
    },
    "executionInfo": {
     "elapsed": 22,
     "status": "ok",
     "timestamp": 1689193453852,
     "user": {
      "displayName": "Arnas Gercas",
      "userId": "05721695559367193707"
     },
     "user_tz": -120
    },
    "id": "e9ewgl4AxVnN",
    "outputId": "e6cfb990-b705-4a55-a29c-bd15706875a8"
   },
   "outputs": [],
   "source": [
    "from IPython.display import Audio\n",
    "\n",
    "Audio(sample[\"audio\"][\"array\"], rate=sample[\"audio\"][\"sampling_rate\"])"
   ]
  },
  {
   "cell_type": "code",
   "execution_count": null,
   "metadata": {
    "executionInfo": {
     "elapsed": 4,
     "status": "ok",
     "timestamp": 1689193453852,
     "user": {
      "displayName": "Arnas Gercas",
      "userId": "05721695559367193707"
     },
     "user_tz": -120
    },
    "id": "E2AFpPUGxRNA"
   },
   "outputs": [],
   "source": [
    "def translate(audio):\n",
    "    outputs = pipe(audio, max_new_tokens=256, generate_kwargs={\"task\": \"translate\"})\n",
    "    return outputs[\"text\"]"
   ]
  },
  {
   "cell_type": "code",
   "execution_count": null,
   "metadata": {
    "colab": {
     "base_uri": "https://localhost:8080/",
     "height": 53
    },
    "executionInfo": {
     "elapsed": 4676,
     "status": "ok",
     "timestamp": 1689193458524,
     "user": {
      "displayName": "Arnas Gercas",
      "userId": "05721695559367193707"
     },
     "user_tz": -120
    },
    "id": "7rAmhMgQxRSL",
    "outputId": "f97f2d0c-c8b2-417a-9424-cd544297fb14"
   },
   "outputs": [],
   "source": [
    "translate(sample[\"audio\"].copy())"
   ]
  },
  {
   "cell_type": "code",
   "execution_count": null,
   "metadata": {
    "colab": {
     "base_uri": "https://localhost:8080/",
     "height": 53
    },
    "executionInfo": {
     "elapsed": 27,
     "status": "ok",
     "timestamp": 1689193458524,
     "user": {
      "displayName": "Arnas Gercas",
      "userId": "05721695559367193707"
     },
     "user_tz": -120
    },
    "id": "14zXBBVrxRXo",
    "outputId": "91f18fcf-83c1-40ea-f56b-10b52aa0b338"
   },
   "outputs": [],
   "source": [
    "sample[\"raw_text\"]"
   ]
  },
  {
   "cell_type": "code",
   "execution_count": null,
   "metadata": {
    "executionInfo": {
     "elapsed": 3,
     "status": "ok",
     "timestamp": 1689193522291,
     "user": {
      "displayName": "Arnas Gercas",
      "userId": "05721695559367193707"
     },
     "user_tz": -120
    },
    "id": "czM100pCxm61"
   },
   "outputs": [],
   "source": [
    "# text-to-speech"
   ]
  },
  {
   "cell_type": "code",
   "execution_count": null,
   "metadata": {
    "colab": {
     "base_uri": "https://localhost:8080/",
     "height": 305,
     "referenced_widgets": [
      "fa778d9bd0974c9fb79697257447ad8e",
      "ee3d422dc0204d5eaf6693743859d319",
      "cae32b05b65a47489cbec4ed65ef3ed8",
      "8dc6c43ef3bf4b72b9497e71e2e217e6",
      "e9f163db0a7e4d62a02ac5e2b9a1eaf1",
      "3e926672d9e54653b8f016ba86055a9f",
      "f3291f5c002c44a99eefc3a8e1f697f5",
      "eaa930d0c59a400e93d17368367ce911",
      "41ab617bfa42446abf44c010f0bf2060",
      "d0b9736b968d46d991906cc3b8773dd9",
      "870ff90649f347a692adba11283045f8",
      "b0d9a1dd51f14cb094f7b19534c033fc",
      "cb46d68f8a0f4ef2a2217d824490826d",
      "bc39f825b64b4809a4d06dadcd64b531",
      "c746e592310c4c47b5d0f3ddbac6804d",
      "b50c83062c32431f81a0110e8629b8c3",
      "421e48a4df794007ae701dd1881a17e2",
      "ae07afbbcb4549af962428a542683c4b",
      "2975f4fb9f8840a8a6098a6f3f550402",
      "ab0ea0bf6b7c41768f2db3a2c6e12d50",
      "d0e1eb6f96e94fca812c21edc10237fc",
      "b75ebee3e29849f184d97855d3227cde",
      "cae30953d3a94dfca98dadefb642a6e7",
      "f861fe5ca9c64521a66e4ba6648ef54f",
      "a6bb94dba7704b5cb5b3a08f317eaaab",
      "662b6fc2c2354b728f67c2c645c196ea",
      "2d6e9b494c2d4c4ea7b2c6e226618e61",
      "b36e62aaafe0430da9b5cdc2add8a412",
      "8b4e9f6172994a74a118f27fc4b34e27",
      "77eabfcc32fd405e8fc5ae35f0c63d16",
      "d9cc201572fa47d1b72a35d02c015955",
      "871f29f17c6142ec8c87d25112fab613",
      "6fe4b9be68d94d7888dfed45b2e519e2",
      "6285141b7de146c098db132e56ffa9e9",
      "54a892eefc694005b2ad0c1743b83173",
      "632cc31466bc4fb08c40043eb6bc3800",
      "f9bb1c5ad7d147f2996076c009951b9a",
      "10923a54d32040b8a2dfc29fbee181b5",
      "0e206c65623c4f0686e6fe02fb133067",
      "71e2582fbbb64f8689de2c0d87c3b118",
      "08af9b944295499dae5a6744484b8742",
      "67341087aeaf4275a193ef23362babb3",
      "13d39a3433a84caebf4e74f1aacdc2f1",
      "805859c7c69544918901c3b45d4acd7c",
      "3fd988fdc16e47b39ca8c2bc24d3a731",
      "5fb849df52ec4b6486344269ea1ad5da",
      "56662be10f8d4d41b0ceb8b2caf28746",
      "46c330d4c24c4dc0aeec7153884abbfc",
      "fe53ca291bda4b9ca6d73799bab7a9f6",
      "4664a9c11fe54244ab22d4ad9b1ecf58",
      "1c12f9c9a63244b285f6d61ece488e21",
      "1ced40da45c6480cbbcbcdcaf8b33ff1",
      "b41ad15858134900a92fdf86f9f9b327",
      "022bd160ee9a412997949b13eaae12d9",
      "0b783684f5a64169881ad1c13e43dca6",
      "87bd013fa0da454d87bd38bdb76e5246",
      "f8a7ae77970d45858a992567b2869d7e",
      "169444a5eec14f8bb2fb4811d8ab5056",
      "e071092c481f464e87f46a7ec3835dd9",
      "71c536cccfbc4609bc114e67984adb8b",
      "4953b8b5f6b34d58b3ad5125c4f91d60",
      "59b442a9dd7f4ce689e703b958e94f2e",
      "5e9ef536d8b442b3abc8e7857f9fbd3c",
      "34c938a709d4454185f6bb1e8fb5229f",
      "51ac4df2769e4b4597c7528fd367783d",
      "d835411ac0f147cb9b8d3a4363896493",
      "f21840c03ceb47229fc0c469749ebf49",
      "95db97238ffd4a939f978819650ba357",
      "d0bd2c21616f4db6b38b759e0e09a61b",
      "9984da50bb654c4290b81d9566127532",
      "7672cd93b8f2400c85178386ac103c10",
      "0700dabb13574da4b632c4bc72e8ae0c",
      "40e8fc995b244f5ab613e28c42b4deb3",
      "e26f8676a1a6472180cd58b0977a980d",
      "be69e0f35b654c5eadc75589368b7faa",
      "ac8c87be79e1422090a679d2c8fdc990",
      "fb93ead357b94866a2bd41d1bfdcfb86",
      "86903c9fffae48bb87983a92c942d2d5",
      "5e72a7277339475f9ad9c228b2623743",
      "8d299d9182c54ac09c5c5896e00e6d56",
      "1294cb0bf0424b4e9270732bb3cf7c5f",
      "7b9c5089ba3b4dcaa816e75b09a82247",
      "c4bc992990a042f3bdbf9ed25b33c3a5",
      "7f65868e47a349489e88e8be316474d9",
      "7bd78686bb4e4dbfa0f6885d0a2d978c",
      "801891ac09f34e248490f5a70426df2f",
      "7670ccead6f447aab582c8724d1f095a",
      "3ded47ed4c4643ea966d5d87aa9e0177",
      "f9fb9ca998664610aaaa0db142dda4fd",
      "1dd46fafa5e34478b9a5ec490b3a1e38",
      "3e2bb878f0a34ab19e339ddde1a7644e",
      "c62f1c42f8564655a2b62587ec7a86c1",
      "15371da0fb4242d9bc4722c7f2607dc4",
      "0ea772c35fe74861acc0bb483e8c902d",
      "5832e382b1174922a584b954bc0c84d9",
      "7ed9a7f5078246a6b9ee9178b121c5af",
      "13923df47d664831be53cb71e8dbc9cc",
      "402a1b3f224f44d2b1a27d92159344ff",
      "4c2b182514ea4c4cbd2c94e869acca7e"
     ]
    },
    "executionInfo": {
     "elapsed": 12471,
     "status": "ok",
     "timestamp": 1689193536276,
     "user": {
      "displayName": "Arnas Gercas",
      "userId": "05721695559367193707"
     },
     "user_tz": -120
    },
    "id": "I2s-VFoCxnEz",
    "outputId": "68820aec-053f-4af1-b97f-f8c4650dacf2"
   },
   "outputs": [],
   "source": [
    "from transformers import SpeechT5Processor, SpeechT5ForTextToSpeech, SpeechT5HifiGan\n",
    "\n",
    "processor = SpeechT5Processor.from_pretrained(\"microsoft/speecht5_tts\")\n",
    "\n",
    "model = SpeechT5ForTextToSpeech.from_pretrained(\"microsoft/speecht5_tts\")\n",
    "vocoder = SpeechT5HifiGan.from_pretrained(\"microsoft/speecht5_hifigan\")"
   ]
  },
  {
   "cell_type": "code",
   "execution_count": null,
   "metadata": {
    "colab": {
     "base_uri": "https://localhost:8080/"
    },
    "executionInfo": {
     "elapsed": 314,
     "status": "ok",
     "timestamp": 1689193617840,
     "user": {
      "displayName": "Arnas Gercas",
      "userId": "05721695559367193707"
     },
     "user_tz": -120
    },
    "id": "H1H8GXZPxnKK",
    "outputId": "92ab6dec-98c2-444a-c701-401be522e4e5"
   },
   "outputs": [],
   "source": [
    "model.to(device)\n",
    "vocoder.to(device)"
   ]
  },
  {
   "cell_type": "code",
   "execution_count": null,
   "metadata": {
    "colab": {
     "base_uri": "https://localhost:8080/",
     "height": 168,
     "referenced_widgets": [
      "42c2ceccdf81494c9433e9dc5fe57b84",
      "680ca31b5b14444cbff1ec98af25555b",
      "d6b626765eaa4f48bf2bcaa17a2605e5",
      "fb7f9ac54a444973ae9bb120450915d0",
      "89302e3c52b94f569db1f0a16387338b",
      "7b26fe33c1004234a6806db0ab32112f",
      "5b62d37b7dfc436096c6961b73496c2a",
      "b50f55d50afe49f6a6bc464d8538a6f1",
      "37110c9f27684383868c167fb37d0fd3",
      "0ca7fde00c9046ecbea8f51438a4caaf",
      "0fc7069d51004b9faf57dd9953cb60fc",
      "76232c5bd9d04483a739285cd50349e9",
      "9176c45c590d42dbbfba5fa022660400",
      "422cbe14bfb944e196e7631e97a78127",
      "2ead560905c141998aacef82209de4b5",
      "b2915e22e1284872a809d67e6a51c35b",
      "c15e7cd2829b4327854c74194856fc06",
      "d902f7122cb94ee1bedae08c31dba572",
      "90290e1349d447b5bd98f287a71791f9",
      "6084e60911974f749813e1f03f53f87f",
      "d0b16016f56e4143a0778908392baeca",
      "b9f3bf384f8440068c71a7be397b543a",
      "15a97b6f307b4821b06dcfa496191c74",
      "725acf672ac340d594a2352c48d0402a",
      "6eb0ad97b1204616baa4c0b8204393f9",
      "0e713468b33e4405955ccf04e00fc1d8",
      "0b09c66aa87340b6978d938032ddda76",
      "f525a39d490d449e997633aaaee8925c",
      "d2c8a5465afc44108a72657f7f091d68",
      "0dbf289528c343e4b64719f709b43752",
      "1761447991f847c09a20541c41080cf4",
      "be0113ceb0d842e588bf6556cf1f091c",
      "34d7c27816e64ff6930c6bf1d812d681",
      "8949fee0006c421680ef0b909f0ce2d6",
      "05abb97e2c284500826177a1451c7d9f",
      "c8125daa353f470d8971d35b7438aa4e",
      "2960012742024eb4a56fe68a2e25d7cb",
      "9d0d56d5c20a4137bee2c88a48de1bdf",
      "c9028efdfa2740fb951499205bdd92ef",
      "37d19440774947329f70d088ad6df749",
      "f12b985e367940e484aed637ba5b93df",
      "ea45d5ec226841289d8648c2f2c90dcf",
      "2eccd681e628473ca9dd4b2341efa486",
      "274492020faf4d639ae4d7630ce8f686"
     ]
    },
    "executionInfo": {
     "elapsed": 19832,
     "status": "ok",
     "timestamp": 1689193638280,
     "user": {
      "displayName": "Arnas Gercas",
      "userId": "05721695559367193707"
     },
     "user_tz": -120
    },
    "id": "3xwKreS7xnP6",
    "outputId": "f5f19d07-cf09-4f1d-d067-ff828232b16f"
   },
   "outputs": [],
   "source": [
    "embeddings_dataset = load_dataset(\"Matthijs/cmu-arctic-xvectors\", split=\"validation\")\n",
    "speaker_embeddings = torch.tensor(embeddings_dataset[7306][\"xvector\"]).unsqueeze(0)"
   ]
  },
  {
   "cell_type": "code",
   "execution_count": null,
   "metadata": {
    "executionInfo": {
     "elapsed": 7,
     "status": "ok",
     "timestamp": 1689193638280,
     "user": {
      "displayName": "Arnas Gercas",
      "userId": "05721695559367193707"
     },
     "user_tz": -120
    },
    "id": "1uCm4mlAxnVf"
   },
   "outputs": [],
   "source": [
    "def synthesise(text):\n",
    "    inputs = processor(text=text, return_tensors=\"pt\")\n",
    "    speech = model.generate_speech(inputs[\"input_ids\"].to(device), speaker_embeddings.to(device), vocoder=vocoder)\n",
    "    return speech.cpu()"
   ]
  },
  {
   "cell_type": "code",
   "execution_count": null,
   "metadata": {
    "colab": {
     "base_uri": "https://localhost:8080/",
     "height": 75
    },
    "executionInfo": {
     "elapsed": 2807,
     "status": "ok",
     "timestamp": 1689193641082,
     "user": {
      "displayName": "Arnas Gercas",
      "userId": "05721695559367193707"
     },
     "user_tz": -120
    },
    "id": "z84beo72xnas",
    "outputId": "db13d5aa-20f5-412d-d428-a510901f9851"
   },
   "outputs": [],
   "source": [
    "speech = synthesise(\"Hey there! This is a test!\")\n",
    "\n",
    "Audio(speech, rate=16000)"
   ]
  },
  {
   "cell_type": "code",
   "execution_count": null,
   "metadata": {
    "executionInfo": {
     "elapsed": 295,
     "status": "ok",
     "timestamp": 1689193654699,
     "user": {
      "displayName": "Arnas Gercas",
      "userId": "05721695559367193707"
     },
     "user_tz": -120
    },
    "id": "Ea5xeJiCxnft"
   },
   "outputs": [],
   "source": [
    "# Combining"
   ]
  },
  {
   "cell_type": "code",
   "execution_count": null,
   "metadata": {
    "executionInfo": {
     "elapsed": 349,
     "status": "ok",
     "timestamp": 1689193700977,
     "user": {
      "displayName": "Arnas Gercas",
      "userId": "05721695559367193707"
     },
     "user_tz": -120
    },
    "id": "vXh8kHouyZby"
   },
   "outputs": [],
   "source": [
    "import numpy as np\n",
    "\n",
    "target_dtype = np.int16\n",
    "max_range = np.iinfo(target_dtype).max\n",
    "\n",
    "\n",
    "def speech_to_speech_translation(audio):\n",
    "    translated_text = translate(audio)\n",
    "    synthesised_speech = synthesise(translated_text)\n",
    "    synthesised_speech = (synthesised_speech.numpy() * max_range).astype(np.int16)\n",
    "    return 16000, synthesised_speech"
   ]
  },
  {
   "cell_type": "code",
   "execution_count": null,
   "metadata": {
    "colab": {
     "base_uri": "https://localhost:8080/",
     "height": 75
    },
    "executionInfo": {
     "elapsed": 50061,
     "status": "ok",
     "timestamp": 1689193751331,
     "user": {
      "displayName": "Arnas Gercas",
      "userId": "05721695559367193707"
     },
     "user_tz": -120
    },
    "id": "N90dEXAbyb6z",
    "outputId": "15194002-c887-413c-bf3b-d1dd28252942"
   },
   "outputs": [],
   "source": [
    "sampling_rate, synthesised_speech = speech_to_speech_translation(sample[\"audio\"])\n",
    "\n",
    "Audio(synthesised_speech, rate=sampling_rate)"
   ]
  },
  {
   "cell_type": "code",
   "execution_count": null,
   "metadata": {
    "id": "HPHi-vjGycFc"
   },
   "outputs": [],
   "source": [
    "import gradio as gr\n",
    "\n",
    "demo = gr.Blocks()\n",
    "\n",
    "mic_translate = gr.Interface(\n",
    "    fn=speech_to_speech_translation,\n",
    "    inputs=gr.Audio(source=\"microphone\", type=\"filepath\"),\n",
    "    outputs=gr.Audio(label=\"Generated Speech\", type=\"numpy\"),\n",
    ")\n",
    "\n",
    "file_translate = gr.Interface(\n",
    "    fn=speech_to_speech_translation,\n",
    "    inputs=gr.Audio(source=\"upload\", type=\"filepath\"),\n",
    "    outputs=gr.Audio(label=\"Generated Speech\", type=\"numpy\"),\n",
    ")\n",
    "\n",
    "with demo:\n",
    "    gr.TabbedInterface([mic_translate, file_translate], [\"Microphone\", \"Audio File\"])\n",
    "\n",
    "demo.launch(debug=True)"
   ]
  },
  {
   "cell_type": "code",
   "execution_count": null,
   "metadata": {
    "id": "GNB5MYGNycLE"
   },
   "outputs": [],
   "source": []
  },
  {
   "cell_type": "code",
   "execution_count": null,
   "metadata": {
    "id": "WeuxR6doycUB"
   },
   "outputs": [],
   "source": []
  },
  {
   "cell_type": "code",
   "execution_count": null,
   "metadata": {
    "id": "1tyDC3kVxnmK"
   },
   "outputs": [],
   "source": []
  }
 ],
 "metadata": {
  "colab": {
   "authorship_tag": "ABX9TyP2F04wZTFk93IuSoQ5q/74",
   "provenance": []
  },
  "kernelspec": {
   "display_name": "Python 3",
   "name": "python3"
  },
  "language_info": {
   "name": "python"
  }
 },
 "nbformat": 4,
 "nbformat_minor": 0
}
